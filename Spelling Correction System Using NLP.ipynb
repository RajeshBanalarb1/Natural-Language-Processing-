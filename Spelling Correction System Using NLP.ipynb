{
 "cells": [
  {
   "cell_type": "markdown",
   "metadata": {},
   "source": [
    "<h1 style=\"text-align: center;margin:-7px\">Spelling Correction System Using Natural Language Processing</h1>\n",
    "<h2 style=\"text-align: center;\">Assignment 1</h2>\n",
    "<h3 style=\"text-align: center;margin:7px\">Student ID: 12102959</h3>\n",
    "<h3 style=\"text-align: center;margin:3px\">Student Name: RAJESH BANALA</h3>"
   ]
  },
  {
   "cell_type": "markdown",
   "metadata": {},
   "source": [
    "# About the project & Dataset\n",
    "\n",
    "*****************************************************************\n",
    "\n",
    "This assignment will involve the creation of a spell checking system and an evaluation of its performance.\n",
    "\n",
    "*****************************************************************\n",
    "\n",
    "In this project, I used the corpus `holbrook.txt`, this is a file which consists of lines of text, with one sentence per line. \n",
    "\n",
    "Errors in the line are marked with a `|` as follows\n",
    "\n",
    "    My siter|sister go|goes to Tonbury.\n",
    "    \n",
    "In this case the word 'siter' was corrected to 'sister' and the word 'go' was corrected to 'goes'.\n",
    "\n",
    "*****************************************************************\n",
    "\n",
    "In some places in the corpus two words maybe corrected to a single word or one word to a multiple words. This is denoted in the data using underscores e.g.,\n",
    "\n",
    "    My Mum goes out some_times|sometimes.\n",
    "    \n",
    "*****************************************************************"
   ]
  },
  {
   "cell_type": "markdown",
   "metadata": {
    "id": "TIVCSJV-7kDs"
   },
   "source": [
    "## Step 1 : Importing Required Libraries\n",
    "\n",
    "*****************************************************************\n",
    "The Natural Language Toolkit (NLTK) is a platform used for building Python programs that work with human language data for applying in statistical natural language processing (NLP). \n",
    "\n",
    "It contains text processing libraries for tokenization, parsing, classification, stemming, tagging and semantic reasoning. It also includes graphical demonstrations and sample data sets as well as accompanied by a cook book and a book which explains the principles behind the underlying language processing tasks that NLTK supports."
   ]
  },
  {
   "cell_type": "code",
   "execution_count": 1,
   "metadata": {},
   "outputs": [],
   "source": [
    "import nltk\n",
    "from nltk.util import ngrams\n",
    "from nltk.metrics.distance import edit_distance\n",
    "from nltk.corpus import words\n",
    "from nltk.tokenize import RegexpTokenizer\n",
    "from itertools import chain\n",
    "#import json\n",
    "from nltk.stem import WordNetLemmatizer\n",
    "from nltk.tokenize import PunktSentenceTokenizer\n",
    "from nltk.stem import *\n",
    "from nltk.corpus import wordnet as wn\n",
    "from tqdm import tqdm\n",
    "from difflib import SequenceMatcher\n",
    "lemmatizer = WordNetLemmatizer()"
   ]
  },
  {
   "cell_type": "markdown",
   "metadata": {},
   "source": [
    "## Step 2: Parsing\n",
    "*****************************************************************\n",
    "\n",
    "In this step, I wrote a parser that can read all the lines of the file `holbrook.txt` and print out for each line the original (misspelled) text, the corrected text and the indexes of any changes. The indexes refers to the index of the words in the sentence. In the example given, there is only an error in the 10th word and so the list of indexes is [9]. It is not necessary to analyze where the error occurs inside the word."
   ]
  },
  {
   "cell_type": "code",
   "execution_count": 2,
   "metadata": {},
   "outputs": [],
   "source": [
    "def parsing(sent):  \n",
    "    \"\"\"Parsing the sentence to corrected and original and storing in the dictionary.\"\"\"\n",
    "    loriginal = []\n",
    "    lcorrected = []\n",
    "    lcorr = []\n",
    "    indexes = []\n",
    "    cnt = 0\n",
    "    \n",
    "    for i in sent:\n",
    "        if '|' in i:\n",
    "            str1 = i.split('|')\n",
    "            loriginal.append(str1[0])\n",
    "            lcorrected.append(str1[1])\n",
    "            indexes.append(cnt)\n",
    "        \n",
    "        else:\n",
    "            # If there is no '|' in sentence, sentence is stored in loriginal and lcorrected as it is.\n",
    "            loriginal.append(i)\n",
    "            lcorrected.append(i)\n",
    "        cnt = cnt+1\n",
    "      \n",
    "    dictionary = {'original': loriginal, 'corrected': lcorrected, 'indexes': indexes}\n",
    "    \n",
    "    return dictionary"
   ]
  },
  {
   "cell_type": "markdown",
   "metadata": {},
   "source": [
    "## Step 3 : Preprocessing\n",
    "*****************************************************************\n",
    "\n",
    "Loading the data from 'holbrook.txt' and passing to parsing function to get parssed sentences."
   ]
  },
  {
   "cell_type": "code",
   "execution_count": 3,
   "metadata": {},
   "outputs": [],
   "source": [
    "def preprocessing(): \n",
    "    \n",
    "    data = []\n",
    "\n",
    "    text_file = open(\"holbrook.txt\", \"r\")\n",
    "    lines = []\n",
    "    \n",
    "    for i in text_file:\n",
    "        lines.append(i.strip())\n",
    "    \n",
    "    # Word tokenizing the sentences\n",
    "    sentences = [nltk.word_tokenize(sent) for sent in lines]\n",
    "    \n",
    "    # Calling a parse function to get corrected, original sentences.\n",
    "    for sent in sentences:\n",
    "        data.append(parsing(sent))\n",
    "        \n",
    "    #Returning the whole dictionary as data\n",
    "    return data"
   ]
  },
  {
   "cell_type": "code",
   "execution_count": 4,
   "metadata": {},
   "outputs": [
    {
     "name": "stdout",
     "output_type": "stream",
     "text": [
      "{'original': ['I', 'have', 'four', 'in', 'my', 'Family', 'Dad', 'Mum', 'and', 'siter', '.'], 'corrected': ['I', 'have', 'four', 'in', 'my', 'Family', 'Dad', 'Mum', 'and', 'sister', '.'], 'indexes': [9]}\n"
     ]
    }
   ],
   "source": [
    "#Calling preprocessing function\n",
    "data = preprocessing()\n",
    "\n",
    "# Testing\n",
    "print(data[2])\n",
    "assert(data[2] == {\n",
    " 'original': ['I', 'have', 'four', 'in', 'my', 'Family', 'Dad', 'Mum', 'and', 'siter', '.'],\n",
    " 'corrected': ['I', 'have', 'four', 'in', 'my', 'Family', 'Dad', 'Mum', 'and', 'sister', '.'],\n",
    " 'indexes': [9]\n",
    "})"
   ]
  },
  {
   "cell_type": "markdown",
   "metadata": {},
   "source": [
    "## Step 4 : Train Test Split\n",
    "*****************************************************************\n",
    "\n",
    "Here, splitting the data into a test set of 100 lines and a training set."
   ]
  },
  {
   "cell_type": "code",
   "execution_count": 5,
   "metadata": {},
   "outputs": [],
   "source": [
    "def test_train_split():\n",
    "    test = data[:100]\n",
    "    train = data[100:]\n",
    "    \n",
    "    # Seperating the train original, test original, test corrected and train corrected from dictionary to list.\n",
    "    train_corrected = [elem['corrected'] for elem in train]\n",
    "    tokenizer = RegexpTokenizer(r'\\w+')\n",
    "    test_corrected = [elem['corrected'] for elem in test]\n",
    "    test_original = [elem['original'] for elem in test]\n",
    "    \n",
    "    # Removing all special characters from the list.\n",
    "    test_original = [tokenizer.tokenize(\" \".join(elem)) for elem in test_original]\n",
    "    test_corrected = [tokenizer.tokenize(\" \".join(elem)) for elem in test_corrected]\n",
    "    train_corrected = [tokenizer.tokenize(\" \".join(elem)) for elem in train_corrected]\n",
    "    \n",
    "    return test_corrected, test_original, train_corrected\n",
    "\n",
    "# Test and Training data.\n",
    "test_corrected, test_original, train_corrected = test_train_split()"
   ]
  },
  {
   "cell_type": "markdown",
   "metadata": {},
   "source": [
    "## Step 5 : Frequency and Ignoring Case\n",
    "*****************************************************************\n",
    "\n",
    "Calculate the frequency (number of occurrences), *ignoring case*, of all words, Unigram probability from the corrected *training* sentences."
   ]
  },
  {
   "cell_type": "code",
   "execution_count": 6,
   "metadata": {},
   "outputs": [
    {
     "name": "stdout",
     "output_type": "stream",
     "text": [
      "unigram('me')== 87\n"
     ]
    }
   ],
   "source": [
    "\"\"\"This function returns a unigram frequency for a given word.\"\"\"\n",
    "def unigram(words):\n",
    "\n",
    "    doc = []\n",
    "    words = words.lower()\n",
    "    for i in train_corrected:\n",
    "        doc.append(\" \".join(i).lower())\n",
    "\n",
    "    doc = \" \".join(doc)    \n",
    "    doc = nltk.word_tokenize(doc)\n",
    "    \n",
    "    # Calculates frequency distribution.\n",
    "    unig_freq = nltk.FreqDist(doc)\n",
    "    \n",
    "    # This gives word count - which is not used (for future modification)\n",
    "    tnum_unig = sum(unig_freq.values())\n",
    "    \n",
    "    return unig_freq[words], tnum_unig\n",
    "\n",
    "e, f = unigram('me')\n",
    "print(\"unigram('me')==\", e)"
   ]
  },
  {
   "cell_type": "code",
   "execution_count": 7,
   "metadata": {},
   "outputs": [
    {
     "name": "stdout",
     "output_type": "stream",
     "text": [
      "bigram('my mother')== 17\n",
      "bigram('you did')== 1\n"
     ]
    }
   ],
   "source": [
    " \"\"\"This function returns a bigram frequency for a given words.\"\"\"\n",
    "def bigram(words):\n",
    "    doc = []\n",
    "    \n",
    "    # This function get words in string, hence converting string of 2 words to tuple.\n",
    "    words = words.split(\" \")\n",
    "    words[0] = words[0].lower()\n",
    "    words[1] = words[1].lower()\n",
    "    words = tuple(words)\n",
    "    \n",
    "    for i in train_corrected:\n",
    "        doc.append(\" \".join(i))\n",
    "        \n",
    "    doc = \" \".join(doc)    \n",
    "    doc = doc.lower()\n",
    "    \n",
    "    #Calculating Bigrams for given words.\n",
    "    tokens = nltk.wordpunct_tokenize(doc)\n",
    "    bigrams=nltk.collocations.BigramCollocationFinder.from_words(tokens)\n",
    "    biag_freq = dict(bigrams.ngram_fd)\n",
    "    \n",
    "    # This gives totla bigram count - which is not used (for future modification)\n",
    "    tnum_bg = sum(biag_freq.values())\n",
    "    \n",
    "    # If there is no such bigram return 0\n",
    "    try:\n",
    "        return biag_freq[words], tnum_bg\n",
    "    except KeyError:\n",
    "        return 0, 0\n",
    "    \n",
    "    \n",
    "a, b = bigram(\"my mother\")\n",
    "print(\"bigram('my mother')==\", a)\n",
    "c, d = bigram(\"you did\")\n",
    "print(\"bigram('you did')==\", c)"
   ]
  },
  {
   "cell_type": "markdown",
   "metadata": {},
   "source": [
    "## Step 6 : Edit Distance: \n",
    "*****************************************************************\n",
    "\n",
    "[Edit distance](https://en.wikipedia.org/wiki/Edit_distance) is a method that calculates how similar two strings are to one another by counting the minimum number of operations required to transform one string into the other. There is a built-in implementation in NLTK that works as follows:\n"
   ]
  },
  {
   "cell_type": "code",
   "execution_count": 8,
   "metadata": {},
   "outputs": [
    {
     "name": "stdout",
     "output_type": "stream",
     "text": [
      "4\n"
     ]
    }
   ],
   "source": [
    "from nltk.metrics.distance import edit_distance\n",
    "\n",
    "# Edit distance returns the number of changes to transform one word to another\n",
    "print(edit_distance(\"hello\", \"hi\"))"
   ]
  },
  {
   "cell_type": "markdown",
   "metadata": {},
   "source": [
    "*****************************************************************\n",
    "Write a function that calculates all words with *minimal* edit distance to the misspelled word. You should do this as follows\n",
    "\n",
    "1. Collect the set of all unique tokens in `train`\n",
    "2. Find the minimal edit distance, that is the lowest value for the function `edit_distance` between `token` and a word in `train`\n",
    "3. Output all unique words in `train` that have this same (minimal) `edit_distance` value\n",
    "*****************************************************************"
   ]
  },
  {
   "cell_type": "code",
   "execution_count": 9,
   "metadata": {},
   "outputs": [
    {
     "name": "stdout",
     "output_type": "stream",
     "text": [
      "['mine', 'mind']\n"
     ]
    }
   ],
   "source": [
    "def get_candidates(token):\n",
    "    \n",
    "    \"\"\"Get nearest word for a given incorrect word.\"\"\"\n",
    "    doc = []\n",
    "\n",
    "    for i in train_corrected:\n",
    "        doc.append(\" \".join(i))\n",
    "\n",
    "    doc = \" \".join(doc)\n",
    "    doc = nltk.word_tokenize(doc)\n",
    "    unig_freq = nltk.FreqDist(doc)\n",
    "    unique_words = list(unig_freq.keys())\n",
    "\n",
    "    # Calculate distance between two words\n",
    "    s = []\n",
    "    for i in unique_words:\n",
    "        t = edit_distance(i, token)\n",
    "        s.append(t)\n",
    "    \n",
    "    # Store the neares words in ordered dictionary\n",
    "    dist = dict(zip(unique_words, s))\n",
    "    dist_sorted = dict(sorted(dist.items(), key=lambda x:x[1]))\n",
    "    minimal_dist = list(dist_sorted.values())[0]\n",
    "    \n",
    "    keys_min = list(filter(lambda k: dist_sorted[k] == minimal_dist, dist_sorted.keys()))\n",
    "    \n",
    "    return keys_min\n",
    "\n",
    "print(get_candidates(\"minde\"))"
   ]
  },
  {
   "cell_type": "markdown",
   "metadata": {},
   "source": [
    "## Step 7:\n",
    "*****************************************************************\n",
    "\n",
    "Here, I wrote a function that takes a (misspelled) sentence and returns the corrected version of that sentence. The system should scan the sentence for words that are not in the dictionary (set of unique words in the training set) and for each word that is not in the dictionary choose a word in the dictionary that has minimal edit distance and has the highest *bigram probability*. That is the candidate should be selected using the previous and following word in a bigram language model. Thus, if the $i$th word in a sentence is misspelled we should use the following to rank candidates:\n",
    "\n",
    "$$p(w_{i+1}|w_i) p(w_i|w_{i-1})$$\n",
    "\n",
    "For the first and last word of the sentence use only the conditional probabilities that exist.\n",
    "*****************************************************************"
   ]
  },
  {
   "cell_type": "code",
   "execution_count": 10,
   "metadata": {},
   "outputs": [],
   "source": [
    "# This is to calculate unigram and bigram probabilities in correct function\n",
    "doc = []\n",
    "\n",
    "for i in train_corrected:\n",
    "    doc.append(\" \".join(i).lower())\n",
    "\n",
    "doc = \" \".join(doc)\n",
    "doc = nltk.word_tokenize(doc)\n",
    "unig_freq = nltk.FreqDist(doc)\n",
    "unique_words = list(unig_freq.keys())\n",
    "\n",
    "cf_biag = nltk.ConditionalFreqDist(nltk.bigrams(doc))\n",
    "cf_biag = nltk.ConditionalProbDist(cf_biag, nltk.MLEProbDist)"
   ]
  },
  {
   "cell_type": "code",
   "execution_count": 11,
   "metadata": {},
   "outputs": [
    {
     "name": "stdout",
     "output_type": "stream",
     "text": [
      "['this', 'white', 'cat']\n"
     ]
    }
   ],
   "source": [
    "\"This function returns the corrected sentence based on bigram probability.\"\n",
    "def correct(sentence):\n",
    "\n",
    "    corrected = []\n",
    "    cnt = 0\n",
    "    indexes = []\n",
    "   \n",
    "    for i in sentence:\n",
    "        # If word not in unique word the calculate suggested words with minimal distance\n",
    "        if i.lower() not in unique_words:\n",
    "            indexes.append(cnt)\n",
    "            if len(get_candidates(i)) > 1:\n",
    "\n",
    "                suggestion = get_candidates(i)\n",
    "                prob = []\n",
    "            \n",
    "            # For each suggested word calaculate bigram probability\n",
    "                for sug in suggestion:\n",
    "\n",
    "                    # Check the misspelled word is first or last word of the sentence\n",
    "                    if ((cnt != 0) and (cnt != len(sentence)-1)):\n",
    "                    \n",
    "                        p1 = cf_biag[sug.lower()].prob(sentence[cnt+1].lower())\n",
    "                        p2 = cf_biag[corrected[len(corrected)-1].lower()].prob(sug.lower())\n",
    "                        p = p1 * p2\n",
    "                        prob.append(p)     \n",
    "                    \n",
    "                    \n",
    "                    else:\n",
    "                        #If mispelled word is last word of a sencence take probaility of previous word\n",
    "                        if cnt == len(sentence)-1:\n",
    "                            \n",
    "                            p2 = cf_biag[corrected[len(corrected)-1].lower()].prob(sug.lower())\n",
    "                            prob.append(p2)\n",
    "                        #If mispelled word is first word of a sencence take probaility of next word\n",
    "                        elif cnt == 0:\n",
    "                        \n",
    "                            p1 = cf_biag[sug.lower()].prob(sentence[cnt+1].lower())\n",
    "                            prob.append(p1)\n",
    "\n",
    "                 \n",
    "                # Take the suggested word with maximum priobability.\n",
    "                if len(suggestion[prob.index(max(prob))]) > 1:\n",
    "                    corrected.append(suggestion[prob.index(max(prob))])\n",
    "                else:\n",
    "                    corrected.append(suggestion[prob.index(max(prob))])\n",
    "            # If only 1 suggested word take that word - no need to calculate probabilities\n",
    "            else:\n",
    "                corrected.append(get_candidates(i)[0])\n",
    "\n",
    "        else:\n",
    "            corrected.append(i)\n",
    "    #Return the corrected sentence\n",
    "        cnt = cnt+1\n",
    "    return corrected\n",
    "\n",
    "\n",
    "print(correct([\"this\",\"whitr\",\"cat\"]))\n",
    "assert(correct([\"this\",\"whitr\",\"cat\"]) == ['this','white','cat'])"
   ]
  },
  {
   "cell_type": "markdown",
   "metadata": {},
   "source": [
    "## Step 8 : Model Evaluation\n",
    "*****************************************************************\n",
    "Using the test corpus evaluate the *accuracy* of the above method, i.e., how many words from your system's output match the corrected sentence (you should count words that are already spelled correctly and not changed by the system)."
   ]
  },
  {
   "cell_type": "code",
   "execution_count": 12,
   "metadata": {},
   "outputs": [
    {
     "name": "stderr",
     "output_type": "stream",
     "text": [
      "\r",
      "  0%|          | 0/100 [00:00<?, ?it/s]"
     ]
    },
    {
     "name": "stdout",
     "output_type": "stream",
     "text": [
      "Actual Sentence:  ['1']\n",
      "Sentence to predict:  ['1']\n",
      "Predicted Sentence:  ['1']\n",
      "Accuracy:  1.0\n"
     ]
    },
    {
     "name": "stderr",
     "output_type": "stream",
     "text": [
      "\r",
      "  2%|▏         | 2/100 [00:00<00:33,  2.93it/s]"
     ]
    },
    {
     "name": "stdout",
     "output_type": "stream",
     "text": [
      "Actual Sentence:  ['NIGEL', 'THRUSH', 'page', '48']\n",
      "Sentence to predict:  ['NIGEL', 'THRUSH', 'page', '48']\n",
      "Predicted Sentence:  ['JILL', 'THEN', 'page', '18']\n",
      "Accuracy:  0.25\n"
     ]
    },
    {
     "name": "stderr",
     "output_type": "stream",
     "text": [
      "\r",
      "  3%|▎         | 3/100 [00:00<00:29,  3.31it/s]"
     ]
    },
    {
     "name": "stdout",
     "output_type": "stream",
     "text": [
      "Actual Sentence:  ['I', 'have', 'four', 'in', 'my', 'Family', 'Dad', 'Mum', 'and', 'sister']\n",
      "Sentence to predict:  ['I', 'have', 'four', 'in', 'my', 'Family', 'Dad', 'Mum', 'and', 'siter']\n",
      "Predicted Sentence:  ['I', 'have', 'four', 'in', 'my', 'Family', 'Dad', 'Mum', 'and', 'sister']\n",
      "Accuracy:  1.0\n",
      "Actual Sentence:  ['My', 'Dad', 'works', 'at', 'Melton']\n",
      "Sentence to predict:  ['My', 'Dad', 'works', 'at', 'Melton']\n",
      "Predicted Sentence:  ['My', 'Dad', 'works', 'at', 'Melton']\n",
      "Accuracy:  1.0\n"
     ]
    },
    {
     "name": "stderr",
     "output_type": "stream",
     "text": [
      "\r",
      "  5%|▌         | 5/100 [00:01<00:19,  4.82it/s]"
     ]
    },
    {
     "name": "stdout",
     "output_type": "stream",
     "text": [
      "Actual Sentence:  ['My', 'sister', 'goes', 'to', 'Tonbury']\n",
      "Sentence to predict:  ['My', 'siter', 'go', 'to', 'Tonbury']\n",
      "Predicted Sentence:  ['My', 'sister', 'go', 'to', 'Tonbury']\n",
      "Accuracy:  0.8\n"
     ]
    },
    {
     "name": "stderr",
     "output_type": "stream",
     "text": [
      "\r",
      "  6%|▌         | 6/100 [00:01<00:23,  3.93it/s]"
     ]
    },
    {
     "name": "stdout",
     "output_type": "stream",
     "text": [
      "Actual Sentence:  ['My', 'Mum', 'goes', 'out', 'sometimes']\n",
      "Sentence to predict:  ['My', 'Mum', 'goes', 'out', 'some_times']\n",
      "Predicted Sentence:  ['My', 'Mum', 'goes', 'out', 'sometimes']\n",
      "Accuracy:  1.0\n"
     ]
    },
    {
     "name": "stderr",
     "output_type": "stream",
     "text": [
      "\r",
      "  7%|▋         | 7/100 [00:02<00:39,  2.37it/s]"
     ]
    },
    {
     "name": "stdout",
     "output_type": "stream",
     "text": [
      "Actual Sentence:  ['I', 'go', 'to', 'Bridgebrook', 'i', 'go', 'out', 'sometimes', 'on', 'Tuesday', 'night', 'i', 'go', 'to', 'Youth', 'club']\n",
      "Sentence to predict:  ['I', 'go', 'to', 'Bridgebrook', 'i', 'go', 'out', 'some_times', 'on', 'Tuesday', 'night', 'i', 'go', 'to', 'Youth', 'clob']\n",
      "Predicted Sentence:  ['I', 'go', 'to', 'Bridgebrook', 'i', 'go', 'out', 'sometimes', 'on', 'THursday', 'night', 'i', 'go', 'to', 'Youth', 'club']\n",
      "Accuracy:  0.9166666666666666\n"
     ]
    },
    {
     "name": "stderr",
     "output_type": "stream",
     "text": [
      "\r",
      "  8%|▊         | 8/100 [00:03<00:46,  1.96it/s]"
     ]
    },
    {
     "name": "stdout",
     "output_type": "stream",
     "text": [
      "Actual Sentence:  ['On', 'thursday', 'nights', 'I', 'go', 'bellringing', 'on', 'Saturdays', 'I', 'go', 'down', 'to', 'the', 'farm']\n",
      "Sentence to predict:  ['On', 'thursday', 'nights', 'I', 'go', 'bell_ringing', 'on', 'Saturdays', 'I', 'go', 'down', 'to', 'the', 'farm']\n",
      "Predicted Sentence:  ['On', 'thursday', 'nights', 'I', 'go', 'beginning', 'on', 'Saturday', 'I', 'go', 'down', 'to', 'the', 'farm']\n",
      "Accuracy:  0.8333333333333334\n"
     ]
    },
    {
     "name": "stderr",
     "output_type": "stream",
     "text": [
      "\r",
      "  9%|▉         | 9/100 [00:03<00:41,  2.21it/s]"
     ]
    },
    {
     "name": "stdout",
     "output_type": "stream",
     "text": [
      "Actual Sentence:  ['on', 'sundays', 'I', 'go', 'to', 'church']\n",
      "Sentence to predict:  ['on', 'sundays', 'I', 'go', 'to', 'church']\n",
      "Predicted Sentence:  ['on', 'sunday', 'I', 'go', 'to', 'church']\n",
      "Accuracy:  0.8333333333333334\n"
     ]
    },
    {
     "name": "stderr",
     "output_type": "stream",
     "text": [
      "\r",
      " 10%|█         | 10/100 [00:03<00:34,  2.57it/s]"
     ]
    },
    {
     "name": "stdout",
     "output_type": "stream",
     "text": [
      "Actual Sentence:  ['I', 'go', 'to', 'bed', 'at', '10', 'o', 'clock', 'I', 'watch', 'TV', 'at', '5', 'o', 'clock', 'I', 'live', 'in', 'a', 'house']\n",
      "Sentence to predict:  ['I', 'go', 'to', 'bed', 'at', '10', 'o', 'clock', 'I', 'wakh', 'TV', 'at', '5', 'o', 'clock', 'I', 'live', 'in', 'a', 'house']\n",
      "Predicted Sentence:  ['I', 'go', 'to', 'bed', 'at', '10', 'o', 'clock', 'I', 'wash', 'TV', 'at', '5', 'o', 'clock', 'I', 'live', 'in', 'a', 'house']\n",
      "Accuracy:  0.9333333333333333\n",
      "Actual Sentence:  ['The', 'house', 'is', 'in', 'the', 'world']\n",
      "Sentence to predict:  ['The', 'house', 'is', 'in', 'the', 'world']\n",
      "Predicted Sentence:  ['The', 'house', 'is', 'in', 'the', 'world']\n",
      "Accuracy:  1.0\n"
     ]
    },
    {
     "name": "stderr",
     "output_type": "stream",
     "text": [
      "\r",
      " 12%|█▏        | 12/100 [00:04<00:34,  2.52it/s]"
     ]
    },
    {
     "name": "stdout",
     "output_type": "stream",
     "text": [
      "Actual Sentence:  ['I', 'live', 'at', 'Boar', 'Parva', 'it', 'is', 'near', 'Melton', 'and', 'Bridgebrook', 'and', 'Smallerden']\n",
      "Sentence to predict:  ['I', 'live', 'at', 'Boar', 'Parva', 'it', 'is', 'near', 'Melton', 'and', 'Bridgebrook', 'and', 'Smallerden']\n",
      "Predicted Sentence:  ['I', 'live', 'at', 'Boat', 'Park', 'it', 'is', 'near', 'Melton', 'and', 'Bridgebrook', 'and', 'garden']\n",
      "Accuracy:  0.75\n"
     ]
    },
    {
     "name": "stderr",
     "output_type": "stream",
     "text": [
      "\r",
      " 13%|█▎        | 13/100 [00:05<00:49,  1.76it/s]"
     ]
    },
    {
     "name": "stdout",
     "output_type": "stream",
     "text": [
      "Actual Sentence:  ['The', 'house', 'is', 'white', 'it', 'has', 'stone', 'up', 'the', 'front', 'it', 'is', 'the', 'first', 'from', 'Bridgebrook', 'and', 'the', 'second', 'from', 'Smallerden']\n",
      "Sentence to predict:  ['The', 'house', 'is', 'white', 'it', 'has', 'stone', 'up', 'the', 'frount', 'it', 'is', 'the', 'first', 'from', 'Bridgebrook', 'and', 'the', 'sexeon', 'from', 'Smallerden']\n",
      "Predicted Sentence:  ['The', 'house', 'is', 'white', 'it', 'has', 'shone', 'up', 'the', 'front', 'it', 'is', 'the', 'first', 'from', 'Bridgebrook', 'and', 'the', 'sexton', 'from', 'garden']\n",
      "Accuracy:  0.8125\n"
     ]
    },
    {
     "name": "stderr",
     "output_type": "stream",
     "text": [
      "\r",
      " 14%|█▍        | 14/100 [00:06<00:50,  1.69it/s]"
     ]
    },
    {
     "name": "stdout",
     "output_type": "stream",
     "text": [
      "Actual Sentence:  ['My', 'Mum', 'is', 'at', 'home', 'She', 'goes', 'to', 'the', 'shop', 'on', 'fridays', 'My', 'Dad', 'goes', 'to', 'work', 'at', 'Smallerden']\n",
      "Sentence to predict:  ['My', 'Mum', 'is', 'at', 'home', 'She', 'goes', 'to', 'the', 'shop', 'on', 'fridays', 'My', 'Dad', 'goes', 'to', 'work', 'at', 'Smallerden']\n",
      "Predicted Sentence:  ['My', 'Mum', 'is', 'at', 'home', 'She', 'goes', 'to', 'the', 'shop', 'on', 'Friday', 'My', 'Dad', 'goes', 'to', 'work', 'at', 'garden']\n",
      "Accuracy:  0.8666666666666667\n",
      "Actual Sentence:  ['What', 'I', 'do', 'when', 'I', 'get', 'home', 'from', 'school']\n",
      "Sentence to predict:  ['What', 'I', 'do', 'when', 'I', 'get', 'home', 'from', 'school']\n",
      "Predicted Sentence:  ['What', 'I', 'do', 'when', 'I', 'get', 'home', 'from', 'school']\n",
      "Accuracy:  1.0\n"
     ]
    },
    {
     "name": "stderr",
     "output_type": "stream",
     "text": [
      "\r",
      " 16%|█▌        | 16/100 [00:06<00:36,  2.31it/s]"
     ]
    },
    {
     "name": "stdout",
     "output_type": "stream",
     "text": [
      "Actual Sentence:  ['On', 'monday', 'I', 'sometimes', 'go', 'down', 'the', 'farm', 'in', 'the', 'night', 'I', 'watch', 'TV', 'there', 'is', 'BBC', 'and', 'I', 'T', 'V']\n",
      "Sentence to predict:  ['On', 'monday', 'I', 'sometimes', 'go', 'down', 'the', 'farm', 'in', 'the', 'night', 'I', 'wach', 'TV', 'there', 'is', 'BBC', 'and', 'I', 'T', 'V']\n",
      "Predicted Sentence:  ['On', 'monday', 'I', 'sometimes', 'go', 'down', 'the', 'farm', 'in', 'the', 'night', 'I', 'wash', 'TV', 'there', 'is', 'ABC', 'and', 'I', 'T', 'V']\n",
      "Accuracy:  0.8888888888888888\n",
      "Actual Sentence:  ['I', 'like', 'I', 'T', 'V']\n",
      "Sentence to predict:  ['I', 'like', 'I', 'T', 'V']\n",
      "Predicted Sentence:  ['I', 'like', 'I', 'T', 'V']\n",
      "Accuracy:  1.0\n"
     ]
    },
    {
     "name": "stderr",
     "output_type": "stream",
     "text": [
      "\r",
      " 18%|█▊        | 18/100 [00:07<00:29,  2.77it/s]"
     ]
    },
    {
     "name": "stdout",
     "output_type": "stream",
     "text": [
      "Actual Sentence:  ['We', 'call', 'Anglia', 'I', 'T', 'V']\n",
      "Sentence to predict:  ['We', 'call', 'Anglia', 'I', 'T', 'V']\n",
      "Predicted Sentence:  ['We', 'all', 'English', 'I', 'T', 'V']\n",
      "Accuracy:  0.6666666666666666\n"
     ]
    },
    {
     "name": "stderr",
     "output_type": "stream",
     "text": [
      "\r",
      " 19%|█▉        | 19/100 [00:07<00:36,  2.21it/s]"
     ]
    },
    {
     "name": "stdout",
     "output_type": "stream",
     "text": [
      "Actual Sentence:  ['We', 'have', 'got', 'Anglia', 'like', 'to', 'watch', 'cowboys']\n",
      "Sentence to predict:  ['We', 'have', 'got', 'Anglia', 'like', 'to', 'wach', 'cow_Boys']\n",
      "Predicted Sentence:  ['We', 'have', 'got', 'English', 'like', 'to', 'wash', 'cowboy']\n",
      "Accuracy:  0.625\n"
     ]
    },
    {
     "name": "stderr",
     "output_type": "stream",
     "text": [
      "\r",
      " 20%|██        | 20/100 [00:08<00:43,  1.83it/s]"
     ]
    },
    {
     "name": "stdout",
     "output_type": "stream",
     "text": [
      "Actual Sentence:  ['On', 'Tuesday', 'I', 'get', 'off', 'the', 'bus', 'and', 'sometimes', 'in', 'the', 'night', 'I', 'go', 'to', 'the', 'Youth', 'club']\n",
      "Sentence to predict:  ['On', 'Tuesday', 'I', 'get', 'off', 'the', 'bus', 'and', 'some_times', 'in', 'the', 'night', 'I', 'go', 'to', 'the', 'Youth', 'colbe']\n",
      "Predicted Sentence:  ['On', 'THursday', 'I', 'get', 'off', 'the', 'bus', 'and', 'sometimes', 'in', 'the', 'night', 'I', 'go', 'to', 'the', 'Youth', 'come']\n",
      "Accuracy:  0.8666666666666667\n"
     ]
    },
    {
     "name": "stderr",
     "output_type": "stream",
     "text": [
      "\r",
      " 21%|██        | 21/100 [00:09<00:37,  2.10it/s]"
     ]
    },
    {
     "name": "stdout",
     "output_type": "stream",
     "text": [
      "Actual Sentence:  ['I', 'like', 'to', 'watch', 'T', 'V']\n",
      "Sentence to predict:  ['I', 'like', 'to', 'wach', 'T', 'V']\n",
      "Predicted Sentence:  ['I', 'like', 'to', 'wash', 'T', 'V']\n",
      "Accuracy:  0.8333333333333334\n",
      "Actual Sentence:  ['there', 'is', 'a', 'lot', 'of', 'things', 'on', 'T', 'V']\n",
      "Sentence to predict:  ['there', 'is', 'a', 'lot', 'of', 'things', 'on', 'T', 'V']\n",
      "Predicted Sentence:  ['there', 'is', 'a', 'lot', 'of', 'things', 'on', 'T', 'V']\n",
      "Accuracy:  1.0\n"
     ]
    },
    {
     "name": "stderr",
     "output_type": "stream",
     "text": [
      "\r",
      " 23%|██▎       | 23/100 [00:09<00:25,  3.08it/s]"
     ]
    },
    {
     "name": "stdout",
     "output_type": "stream",
     "text": [
      "Actual Sentence:  ['I', 'watch', 'it', 'each', 'night']\n",
      "Sentence to predict:  ['I', 'wach', 'it', 'each', 'night']\n",
      "Predicted Sentence:  ['I', 'wash', 'it', 'each', 'night']\n",
      "Accuracy:  0.8\n",
      "Actual Sentence:  []\n",
      "Sentence to predict:  []\n",
      "Predicted Sentence:  []\n",
      "Accuracy:  1.0\n"
     ]
    },
    {
     "name": "stderr",
     "output_type": "stream",
     "text": [
      "\r",
      " 25%|██▌       | 25/100 [00:09<00:21,  3.43it/s]"
     ]
    },
    {
     "name": "stdout",
     "output_type": "stream",
     "text": [
      "Actual Sentence:  ['I', 'think', 'TV', 'is', 'good', 'but', 'people', 'say', 'it', 'gives', 'us', 'square', 'eyes']\n",
      "Sentence to predict:  ['I', 'thing', 'tv', 'is', 'good', 'but', 'people', 'say', 'it', 'gives', 'us', 'squar', 'iyes']\n",
      "Predicted Sentence:  ['I', 'thing', 'tv', 'is', 'good', 'but', 'people', 'say', 'it', 'gives', 'us', 'star', 'yes']\n",
      "Accuracy:  0.6923076923076923\n",
      "Actual Sentence:  ['The', 'Murder', 'Car']\n",
      "Sentence to predict:  ['The', 'Murder', 'Car']\n",
      "Predicted Sentence:  ['The', 'Murder', 'Car']\n",
      "Accuracy:  1.0\n"
     ]
    },
    {
     "name": "stderr",
     "output_type": "stream",
     "text": [
      "\r",
      " 27%|██▋       | 27/100 [00:10<00:20,  3.63it/s]"
     ]
    },
    {
     "name": "stdout",
     "output_type": "stream",
     "text": [
      "Actual Sentence:  ['1', 'night', 'when', 'it', 'was', 'dark', 'about', '12', 'o', 'clock', 'a', 'man', 'was', 'knocked', 'down', 'by', 'a', 'car']\n",
      "Sentence to predict:  ['1', 'night', 'when', 'it', 'was', 'dark', 'about', '12', 'oclock', 'a', 'man', 'was', 'nock', 'down', 'by', 'a', 'car']\n",
      "Predicted Sentence:  ['1', 'night', 'when', 'it', 'was', 'dark', 'about', '12', 'clock', 'a', 'man', 'was', 'knock', 'down', 'by', 'a', 'car']\n",
      "Accuracy:  0.875\n"
     ]
    },
    {
     "name": "stderr",
     "output_type": "stream",
     "text": [
      "\r",
      " 28%|██▊       | 28/100 [00:10<00:19,  3.65it/s]"
     ]
    },
    {
     "name": "stdout",
     "output_type": "stream",
     "text": [
      "Actual Sentence:  ['The', 'body', 'was', 'found', 'at', '7', 'o', 'clock', 'in', 'the', 'morning']\n",
      "Sentence to predict:  ['The', 'body', 'was', 'found', 'a', '7', 'oclock', 'in', 'the', 'morning']\n",
      "Predicted Sentence:  ['The', 'body', 'was', 'found', 'a', '7', 'clock', 'in', 'the', 'morning']\n",
      "Accuracy:  0.8181818181818182\n"
     ]
    },
    {
     "name": "stderr",
     "output_type": "stream",
     "text": [
      "\r",
      " 29%|██▉       | 29/100 [00:11<00:27,  2.58it/s]"
     ]
    },
    {
     "name": "stdout",
     "output_type": "stream",
     "text": [
      "Actual Sentence:  ['The', 'name', 'of', 'the', 'man', 'who', 'was', 'killed', 'was', 'Jack', 'Robbinson', 'he', 'has', 'black', 'hair', 'brown', 'eyes', 'blue', 'Jacket', 'and', 'blue', 'Jeans']\n",
      "Sentence to predict:  ['The', 'name', 'of', 'the', 'man', 'who', 'was', 'kild', 'was', 'Jack', 'Robbinson', 'he', 'has', 'black', 'hair', 'brown', 'eyes', 'blue', 'Jacket', 'and', 'blue', 'Jeans']\n",
      "Predicted Sentence:  ['The', 'name', 'of', 'the', 'man', 'who', 'was', 'kind', 'was', 'Jack', 'robins', 'he', 'has', 'black', 'hair', 'brown', 'eyes', 'blue', 'Jacket', 'and', 'blue', 'Jean']\n",
      "Accuracy:  0.85\n",
      "Actual Sentence:  ['No', 'one', 'saw', 'the', 'car']\n",
      "Sentence to predict:  ['No', 'one', 'see', 'the', 'car']\n",
      "Predicted Sentence:  ['No', 'one', 'see', 'the', 'car']\n",
      "Accuracy:  0.8\n"
     ]
    },
    {
     "name": "stderr",
     "output_type": "stream",
     "text": [
      "\r",
      " 31%|███       | 31/100 [00:11<00:25,  2.72it/s]"
     ]
    },
    {
     "name": "stdout",
     "output_type": "stream",
     "text": [
      "Actual Sentence:  ['there', 'had', 'been', 'a', 'lot', 'of', 'people', 'knocked', 'down', 'by', 'a', 'car', 'so', 'they', 'called', 'it', 'the', 'murder', 'car']\n",
      "Sentence to predict:  ['there', 'had', 'bean', 'a', 'lot', 'of', 'people', 'nock', 'down', 'by', 'a', 'car', 'so', 'they', 'cald', 'it', 'the', 'murder', 'car']\n",
      "Predicted Sentence:  ['there', 'had', 'Jean', 'a', 'lot', 'of', 'people', 'knock', 'down', 'by', 'a', 'car', 'so', 'they', 'cold', 'it', 'the', 'murder', 'car']\n",
      "Accuracy:  0.8235294117647058\n"
     ]
    },
    {
     "name": "stderr",
     "output_type": "stream",
     "text": [
      "\r",
      " 32%|███▏      | 32/100 [00:12<00:22,  3.01it/s]"
     ]
    },
    {
     "name": "stdout",
     "output_type": "stream",
     "text": [
      "Actual Sentence:  ['The', 'Police', 'came', 'out', 'to', 'look', 'for', 'the', 'car']\n",
      "Sentence to predict:  ['The', 'Police', 'cam', 'out', 'to', 'look', 'for', 'the', 'car']\n",
      "Predicted Sentence:  ['The', 'Police', 'came', 'out', 'to', 'look', 'for', 'the', 'car']\n",
      "Accuracy:  1.0\n",
      "Actual Sentence:  ['The', 'other', 'cars', 'were', 'black', 'so', 'one', 'of', 'the', 'other', 'people', 'said']\n",
      "Sentence to predict:  ['The', 'other', 'cars', 'were', 'black', 'so', 'one', 'of', 'the', 'other', 'people', 'said']\n",
      "Predicted Sentence:  ['The', 'other', 'cars', 'were', 'black', 'so', 'one', 'of', 'the', 'other', 'people', 'said']\n",
      "Accuracy:  1.0\n"
     ]
    },
    {
     "name": "stderr",
     "output_type": "stream",
     "text": [
      "\r",
      " 34%|███▍      | 34/100 [00:12<00:19,  3.36it/s]"
     ]
    },
    {
     "name": "stdout",
     "output_type": "stream",
     "text": [
      "Actual Sentence:  ['The', 'murder', 'man', 'has', 'a', 'black', 'beard', 'The', 'next', 'day', 'one', 'of', 'the', 'policemen', 'were', 'killed', 'the', 'next', 'day', 'they', 'found', 'the', 'car', 'over', 'the', 'Hill', 'there', 'was', 'the', 'man', 'near', 'it', 'he', 'was', 'dead']\n",
      "Sentence to predict:  ['The', 'murder', 'man', 'has', 'a', 'black', 'beard', 'The', 'next', 'day', 'one', 'of', 'the', 'policemen', 'were', 'killd', 'the', 'next', 'day', 'they', 'found', 'the', 'car', 'over', 'the', 'Hill', 'the', 'was', 'the', 'man', 'near', 'it', 'he', 'was', 'dead']\n",
      "Predicted Sentence:  ['The', 'murder', 'man', 'has', 'a', 'black', 'heard', 'The', 'next', 'day', 'one', 'of', 'the', 'policemen', 'were', 'killed', 'the', 'next', 'day', 'they', 'found', 'the', 'car', 'over', 'the', 'Hill', 'the', 'was', 'the', 'man', 'near', 'it', 'he', 'was', 'dead']\n",
      "Accuracy:  0.9230769230769231\n"
     ]
    },
    {
     "name": "stderr",
     "output_type": "stream",
     "text": [
      "\r",
      " 35%|███▌      | 35/100 [00:13<00:22,  2.94it/s]"
     ]
    },
    {
     "name": "stdout",
     "output_type": "stream",
     "text": [
      "Actual Sentence:  ['I', 'kissed', 'a', 'girl', 'one', 'night', 'Her', 'eyes', 'were', 'burning', 'blue', 'She', 'said', 'o', 'do', 'you', 'love', 'me', 'Of', 'course', 'of', 'course', 'I', 'do']\n",
      "Sentence to predict:  ['I', 'kissed', 'a', 'girl', 'one', 'night', 'Here', 'iyes', 'were', 'burning', 'blue', 'She', 'said', 'o', 'do', 'you', 'love', 'me', 'Of', 'course', 'of', 'course', 'I', 'do']\n",
      "Predicted Sentence:  ['I', 'kissed', 'a', 'girl', 'one', 'night', 'Here', 'yes', 'were', 'running', 'blue', 'She', 'said', 'o', 'do', 'you', 'love', 'me', 'Of', 'course', 'of', 'course', 'I', 'do']\n",
      "Accuracy:  0.8571428571428571\n"
     ]
    },
    {
     "name": "stderr",
     "output_type": "stream",
     "text": [
      "\r",
      " 36%|███▌      | 36/100 [00:13<00:21,  3.02it/s]"
     ]
    },
    {
     "name": "stdout",
     "output_type": "stream",
     "text": [
      "Actual Sentence:  ['Bell', 'Ringing']\n",
      "Sentence to predict:  ['Bell', 'Ringing']\n",
      "Predicted Sentence:  ['Bell', 'singing']\n",
      "Accuracy:  0.5\n"
     ]
    },
    {
     "name": "stderr",
     "output_type": "stream",
     "text": [
      "\r",
      " 37%|███▋      | 37/100 [00:14<00:35,  1.75it/s]"
     ]
    },
    {
     "name": "stdout",
     "output_type": "stream",
     "text": [
      "Actual Sentence:  ['When', 'you', 'start', 'Bell', 'Ringing', 'you', 'have_to', 'ring', 'a', 'bell', 'before', 'you', 'can', 'do', 'anything', 'else']\n",
      "Sentence to predict:  ['When', 'you', 'start', 'Bell', 'Ringing', 'you', 'haveto', 'ring', 'a', 'bell', 'be_for', 'you', 'can', 'do', 'any_thing', 'als']\n",
      "Predicted Sentence:  ['When', 'you', 'start', 'Bell', 'singing', 'you', 'have', 'ring', 'a', 'bell', 'before', 'you', 'can', 'do', 'anything', 'as']\n",
      "Accuracy:  0.7857142857142857\n"
     ]
    },
    {
     "name": "stderr",
     "output_type": "stream",
     "text": [
      "\r",
      " 38%|███▊      | 38/100 [00:14<00:29,  2.09it/s]"
     ]
    },
    {
     "name": "stdout",
     "output_type": "stream",
     "text": [
      "Actual Sentence:  ['It', 'takes', 'a', 'lot', 'to', 'ring', 'a', 'bell', 'on', 'the', 'rope', 'there', 'is', 'a', 'sally']\n",
      "Sentence to predict:  ['It', 'takes', 'a', 'lot', 'to', 'ring', 'a', 'bell', 'on', 'the', 'rope', 'there', 'is', 'a', 'sally']\n",
      "Predicted Sentence:  ['It', 'takes', 'a', 'lot', 'to', 'ring', 'a', 'bell', 'on', 'the', 'rose', 'there', 'is', 'a', 'sally']\n",
      "Accuracy:  0.9230769230769231\n"
     ]
    },
    {
     "name": "stderr",
     "output_type": "stream",
     "text": [
      "\r",
      " 39%|███▉      | 39/100 [00:15<00:24,  2.44it/s]"
     ]
    },
    {
     "name": "stdout",
     "output_type": "stream",
     "text": [
      "Actual Sentence:  ['ON', 'the', 'bell', 'there', 'is', 'a', 'wheel']\n",
      "Sentence to predict:  ['ON', 'the', 'bell', 'there', 'is', 'a', 'weel']\n",
      "Predicted Sentence:  ['ON', 'the', 'bell', 'there', 'is', 'a', 'week']\n",
      "Accuracy:  0.8571428571428571\n"
     ]
    },
    {
     "name": "stderr",
     "output_type": "stream",
     "text": [
      "\r",
      " 40%|████      | 40/100 [00:15<00:25,  2.37it/s]"
     ]
    },
    {
     "name": "stdout",
     "output_type": "stream",
     "text": [
      "Actual Sentence:  ['the', 'wheel', 'has', 'the', 'rope', 'on', 'it', 'some', 'sallies', 'are', 'green', 'and', 'the', 'others', 'are', 'red', 'white', 'and', 'blue']\n",
      "Sentence to predict:  ['the', 'weel', 'has', 'the', 'rope', 'on', 'it', 'some', 'sally', 'are', 'green', 'and', 'the', 'other', 'are', 'red', 'white', 'and', 'blue']\n",
      "Predicted Sentence:  ['the', 'well', 'has', 'the', 'rose', 'on', 'it', 'some', 'sally', 'are', 'green', 'and', 'the', 'other', 'are', 'red', 'white', 'and', 'blue']\n",
      "Accuracy:  0.7333333333333333\n",
      "Actual Sentence:  ['When', 'you', 'can', 'ring']\n",
      "Sentence to predict:  ['When', 'you', 'can', 'ring']\n",
      "Predicted Sentence:  ['When', 'you', 'can', 'ring']\n",
      "Accuracy:  1.0\n"
     ]
    },
    {
     "name": "stderr",
     "output_type": "stream",
     "text": [
      "\r",
      " 42%|████▏     | 42/100 [00:15<00:16,  3.43it/s]"
     ]
    },
    {
     "name": "stdout",
     "output_type": "stream",
     "text": [
      "Actual Sentence:  ['You', 'ring', 'like', 'this']\n",
      "Sentence to predict:  ['You', 'rings', 'like', 'this']\n",
      "Predicted Sentence:  ['You', 'wings', 'like', 'this']\n",
      "Accuracy:  0.75\n"
     ]
    },
    {
     "name": "stderr",
     "output_type": "stream",
     "text": [
      "\r",
      " 43%|████▎     | 43/100 [00:16<00:27,  2.11it/s]"
     ]
    },
    {
     "name": "stdout",
     "output_type": "stream",
     "text": [
      "Actual Sentence:  ['These', 'are', 'the', 'names', 'of', 'them', 'Plain', 'Hunt', 'plain', 'Bob', 'Grandsire', 'Doubles']\n",
      "Sentence to predict:  ['These', 'are', 'the', 'names', 'of', 'them', 'Plain', 'Hunt', 'plain', 'Bob', 'Grandsire', 'Doubles']\n",
      "Predicted Sentence:  ['These', 'are', 'the', 'names', 'of', 'them', 'again', 'Hunt', 'plan', 'Bob', 'Handsome', 'double']\n",
      "Accuracy:  0.6666666666666666\n"
     ]
    },
    {
     "name": "stderr",
     "output_type": "stream",
     "text": [
      "\r",
      " 44%|████▍     | 44/100 [00:17<00:28,  1.96it/s]"
     ]
    },
    {
     "name": "stdout",
     "output_type": "stream",
     "text": [
      "Actual Sentence:  ['Grandsire', 'Triples', 'it', 'takes', 'a', 'long', 'time', 'to', 'ring', 'them']\n",
      "Sentence to predict:  ['Grandsire', 'Triples', 'it', 'takes', 'a', 'long', 'time', 'to', 'ring', 'them']\n",
      "Predicted Sentence:  ['Handsome', 'apples', 'it', 'takes', 'a', 'long', 'time', 'to', 'ring', 'them']\n",
      "Accuracy:  0.8\n",
      "Actual Sentence:  ['Me', 'and', 'my', 'dad', 'bike', 'to', 'Melton']\n",
      "Sentence to predict:  ['Me', 'and', 'my', 'dad', 'bike', 'to', 'Melton']\n",
      "Predicted Sentence:  ['Me', 'and', 'my', 'dad', 'bike', 'to', 'Melton']\n",
      "Accuracy:  1.0\n"
     ]
    },
    {
     "name": "stderr",
     "output_type": "stream",
     "text": [
      "\r",
      " 46%|████▌     | 46/100 [00:17<00:18,  2.87it/s]"
     ]
    },
    {
     "name": "stdout",
     "output_type": "stream",
     "text": [
      "Actual Sentence:  ['THE', 'SICK', 'SOW', 'OF', 'THE', 'ARMY', 'COURT']\n",
      "Sentence to predict:  ['THE', 'SICK', 'SOW', 'OF', 'THE', 'ARMY', 'COURT']\n",
      "Predicted Sentence:  ['THE', 'SICK', 'SOW', 'OF', 'THE', 'ARMY', 'YOUNG']\n",
      "Accuracy:  0.8333333333333334\n"
     ]
    },
    {
     "name": "stderr",
     "output_type": "stream",
     "text": [
      "\r",
      " 47%|████▋     | 47/100 [00:18<00:27,  1.93it/s]"
     ]
    },
    {
     "name": "stdout",
     "output_type": "stream",
     "text": [
      "Actual Sentence:  ['One', 'day', 'Sergent', 'S', 'M', 'Bullimore', 'told', 'Hut', '29', 'to', 'clean', 'Cynthia', 's', 'pig', 'sty', 'out']\n",
      "Sentence to predict:  ['One', 'day', 'Sergent', 'S', 'M', 'Bullimore', 'told', 'Hut', '29', 'to', 'clean', 'Cynthia', 's', 'pig', 'sty', 'out']\n",
      "Predicted Sentence:  ['One', 'day', 'sergeant', 'S', 'M', 'Butlins', 'told', 'Hut', '29', 'to', 'clean', 'this', 's', 'pig', 'stay', 'out']\n",
      "Accuracy:  0.75\n"
     ]
    },
    {
     "name": "stderr",
     "output_type": "stream",
     "text": [
      "\r",
      " 48%|████▊     | 48/100 [00:19<00:26,  1.96it/s]"
     ]
    },
    {
     "name": "stdout",
     "output_type": "stream",
     "text": [
      "Actual Sentence:  ['When', 'Hut', '29', 'got', 'there', 'they', 'had', 'to', 'go', 'and', 'get', 'some', 'gas', 'masks', 'because', 'the', 'smell', 'was', 'to', 'strong']\n",
      "Sentence to predict:  ['When', 'Hut', '29', 'got', 'there', 'they', 'had', 'to', 'go', 'and', 'get', 'some', 'gass', 'marsks', 'because', 'the', 'smell', 'was', 'to', 'strong']\n",
      "Predicted Sentence:  ['When', 'Hut', '29', 'got', 'there', 'they', 'had', 'to', 'go', 'and', 'get', 'some', 'grass', 'asks', 'because', 'the', 'smell', 'was', 'to', 'strong']\n",
      "Accuracy:  0.8947368421052632\n"
     ]
    },
    {
     "name": "stderr",
     "output_type": "stream",
     "text": [
      "\r",
      " 49%|████▉     | 49/100 [00:20<00:29,  1.75it/s]"
     ]
    },
    {
     "name": "stdout",
     "output_type": "stream",
     "text": [
      "Actual Sentence:  ['When', 'S', 'M', 'Bullimore', 'came', 'to', 'the', 'pig', 'sty', 'the', 'pig', 'was', 'laid', 'out', 'on', 'the', 'floor']\n",
      "Sentence to predict:  ['When', 'S', 'M', 'Bullimore', 'came', 'to', 'the', 'pig', 'sty', 'the', 'pig', 'was', 'laid', 'out', 'on', 'the', 'foor']\n",
      "Predicted Sentence:  ['When', 'S', 'M', 'Butlins', 'came', 'to', 'the', 'pig', 'stay', 'the', 'pig', 'was', 'laid', 'out', 'on', 'the', 'door']\n",
      "Accuracy:  0.7857142857142857\n"
     ]
    },
    {
     "name": "stderr",
     "output_type": "stream",
     "text": [
      "\r",
      " 50%|█████     | 50/100 [00:20<00:27,  1.81it/s]"
     ]
    },
    {
     "name": "stdout",
     "output_type": "stream",
     "text": [
      "Actual Sentence:  ['when', 'they', 'came', 'back', 'S', 'M', 'Bullimore', 'said', 'what', 'have', 'you', 'been', 'doing', 'to', 'my', 'sow']\n",
      "Sentence to predict:  ['when', 'they', 'came', 'back', 'S', 'M', 'Bullimore', 'said', 'wat', 'have', 'you', 'been', 'doing', 'to', 'my', 'sow']\n",
      "Predicted Sentence:  ['when', 'they', 'came', 'back', 'S', 'M', 'Butlins', 'said', 'what', 'have', 'you', 'been', 'doing', 'to', 'my', 'sow']\n",
      "Accuracy:  0.9375\n"
     ]
    },
    {
     "name": "stderr",
     "output_type": "stream",
     "text": [
      "\r",
      " 51%|█████     | 51/100 [00:21<00:26,  1.87it/s]"
     ]
    },
    {
     "name": "stdout",
     "output_type": "stream",
     "text": [
      "Actual Sentence:  ['we', 'have', 'not', 'done', 'anything', 'we', 'had', 'to', 'go', 'and', 'get', 'some', 'gas', 'masks', 'because', 'the', 'smell', 'was', 'too', 'strong']\n",
      "Sentence to predict:  ['we', 'have', 'not', 'done', 'anything', 'we', 'had', 'to', 'go', 'and', 'get', 'some', 'gass', 'marsks', 'because', 'the', 'smell', 'was', 'to', 'strong']\n",
      "Predicted Sentence:  ['we', 'have', 'not', 'done', 'anything', 'we', 'had', 'to', 'go', 'and', 'get', 'some', 'grass', 'asks', 'because', 'the', 'smell', 'was', 'to', 'strong']\n",
      "Accuracy:  0.8421052631578947\n"
     ]
    },
    {
     "name": "stderr",
     "output_type": "stream",
     "text": [
      "\r",
      " 52%|█████▏    | 52/100 [00:21<00:27,  1.76it/s]"
     ]
    },
    {
     "name": "stdout",
     "output_type": "stream",
     "text": [
      "Actual Sentence:  ['that', 'is', 'only', 'the', 'soap', 'what', 'I', 'wash', 'it', 'with']\n",
      "Sentence to predict:  ['that', 'is', 'only', 'the', 'soap', 'wat', 'I', 'wosh', 'it', 'with']\n",
      "Predicted Sentence:  ['that', 'is', 'only', 'the', 'some', 'was', 'I', 'wish', 'it', 'with']\n",
      "Accuracy:  0.7\n"
     ]
    },
    {
     "name": "stderr",
     "output_type": "stream",
     "text": [
      "\r",
      " 53%|█████▎    | 53/100 [00:22<00:28,  1.66it/s]"
     ]
    },
    {
     "name": "stdout",
     "output_type": "stream",
     "text": [
      "Actual Sentence:  ['perhaps', 'he', 'ate', 'some', 'soap']\n",
      "Sentence to predict:  ['prasp', 'he', 'et', 'some', 'soap']\n",
      "Predicted Sentence:  ['tramp', 'he', 'it', 'some', 'sea']\n",
      "Accuracy:  0.4\n"
     ]
    },
    {
     "name": "stderr",
     "output_type": "stream",
     "text": [
      "\r",
      " 54%|█████▍    | 54/100 [00:22<00:23,  1.95it/s]"
     ]
    },
    {
     "name": "stdout",
     "output_type": "stream",
     "text": [
      "Actual Sentence:  ['Flogger', 'said', 'shall', 'I', 'go', 'and', 'get', 'the', 'vet']\n",
      "Sentence to predict:  ['Flogger', 'said', 'shall', 'I', 'go', 'and', 'get', 'the', 'vet']\n",
      "Predicted Sentence:  ['longer', 'said', 'shall', 'I', 'go', 'and', 'get', 'the', 'vet']\n",
      "Accuracy:  0.8888888888888888\n"
     ]
    },
    {
     "name": "stderr",
     "output_type": "stream",
     "text": [
      "\r",
      " 55%|█████▌    | 55/100 [00:23<00:23,  1.93it/s]"
     ]
    },
    {
     "name": "stdout",
     "output_type": "stream",
     "text": [
      "Actual Sentence:  ['get', 'back', 'in', 'the', 'line', 'before', 'I', 'put', 'you', 'on', 'charge']\n",
      "Sentence to predict:  ['get', 'back', 'in', 'the', 'line', 'be_for', 'I', 'put', 'you', 'on', 'charge']\n",
      "Predicted Sentence:  ['get', 'back', 'in', 'the', 'line', 'before', 'I', 'put', 'you', 'on', 'charged']\n",
      "Accuracy:  0.9090909090909091\n",
      "Actual Sentence:  ['what', 'did', 'you', 'say']\n",
      "Sentence to predict:  ['what', 'did', 'you', 'say']\n",
      "Predicted Sentence:  ['what', 'did', 'you', 'say']\n",
      "Accuracy:  1.0\n",
      "Actual Sentence:  ['o', 'nothing', 'sir']\n",
      "Sentence to predict:  ['o', 'nothing', 'sir']\n",
      "Predicted Sentence:  ['o', 'nothing', 'sir']\n",
      "Accuracy:  1.0\n"
     ]
    },
    {
     "name": "stderr",
     "output_type": "stream",
     "text": [
      "\r",
      " 58%|█████▊    | 58/100 [00:23<00:11,  3.54it/s]"
     ]
    },
    {
     "name": "stdout",
     "output_type": "stream",
     "text": [
      "Actual Sentence:  ['go', 'and', 'get', 'some', 'whiskey']\n",
      "Sentence to predict:  ['go', 'and', 'get', 'some', 'wiskey']\n",
      "Predicted Sentence:  ['go', 'and', 'get', 'some', 'whiskey']\n",
      "Accuracy:  1.0\n"
     ]
    },
    {
     "name": "stderr",
     "output_type": "stream",
     "text": [
      "\r",
      " 59%|█████▉    | 59/100 [00:23<00:11,  3.68it/s]"
     ]
    },
    {
     "name": "stdout",
     "output_type": "stream",
     "text": [
      "Actual Sentence:  ['okay', 'sir']\n",
      "Sentence to predict:  ['okay', 'sir']\n",
      "Predicted Sentence:  ['day', 'sir']\n",
      "Accuracy:  0.5\n"
     ]
    },
    {
     "name": "stderr",
     "output_type": "stream",
     "text": [
      "\r",
      " 60%|██████    | 60/100 [00:24<00:15,  2.63it/s]"
     ]
    },
    {
     "name": "stdout",
     "output_type": "stream",
     "text": [
      "Actual Sentence:  ['put', 'some', 'soap', 'in', 'it', 'Flogger', 'said', 'Oswald']\n",
      "Sentence to predict:  ['put', 'some', 'soap', 'in', 'it', 'Flogger', 'said', 'Oswald']\n",
      "Predicted Sentence:  ['put', 'some', 'some', 'in', 'it', 'longer', 'said', 'shall']\n",
      "Accuracy:  0.625\n"
     ]
    },
    {
     "name": "stderr",
     "output_type": "stream",
     "text": [
      "\r",
      " 61%|██████    | 61/100 [00:24<00:13,  2.81it/s]"
     ]
    },
    {
     "name": "stdout",
     "output_type": "stream",
     "text": [
      "Actual Sentence:  ['OK', 'said', 'Flogger']\n",
      "Sentence to predict:  ['OK', 'said', 'Flogger']\n",
      "Predicted Sentence:  ['OK', 'said', 'longer']\n",
      "Accuracy:  0.6666666666666666\n"
     ]
    },
    {
     "name": "stderr",
     "output_type": "stream",
     "text": [
      "\r",
      " 62%|██████▏   | 62/100 [00:25<00:13,  2.92it/s]"
     ]
    },
    {
     "name": "stdout",
     "output_type": "stream",
     "text": [
      "Actual Sentence:  ['Flogger', 'went', 'off']\n",
      "Sentence to predict:  ['Flogger', 'went', 'off']\n",
      "Predicted Sentence:  ['longer', 'went', 'off']\n",
      "Accuracy:  0.6666666666666666\n"
     ]
    },
    {
     "name": "stderr",
     "output_type": "stream",
     "text": [
      "\r",
      " 63%|██████▎   | 63/100 [00:25<00:14,  2.60it/s]"
     ]
    },
    {
     "name": "stdout",
     "output_type": "stream",
     "text": [
      "Actual Sentence:  ['a', 'little', 'while', 'after', 'he', 'came', 'with', 'a', 'large', 'soap', 'whiskey']\n",
      "Sentence to predict:  ['a', 'little', 'while', 'after', 'he', 'came', 'with', 'a', 'large', 'soape', 'wiskey']\n",
      "Predicted Sentence:  ['a', 'little', 'while', 'after', 'he', 'came', 'with', 'a', 'large', 'some', 'whiskey']\n",
      "Accuracy:  0.9\n"
     ]
    },
    {
     "name": "stderr",
     "output_type": "stream",
     "text": [
      "\r",
      " 64%|██████▍   | 64/100 [00:26<00:15,  2.33it/s]"
     ]
    },
    {
     "name": "stdout",
     "output_type": "stream",
     "text": [
      "Actual Sentence:  ['he', 'gave', 'it', 'to', 'S', 'M', 'Bullimore']\n",
      "Sentence to predict:  ['he', 'cave', 'it', 'to', 'S', 'M', 'Bullimore']\n",
      "Predicted Sentence:  ['he', 'gave', 'it', 'to', 'S', 'M', 'Butlins']\n",
      "Accuracy:  0.8571428571428571\n"
     ]
    },
    {
     "name": "stderr",
     "output_type": "stream",
     "text": [
      "\r",
      " 65%|██████▌   | 65/100 [00:26<00:13,  2.67it/s]"
     ]
    },
    {
     "name": "stdout",
     "output_type": "stream",
     "text": [
      "Actual Sentence:  ['Then', 'he', 'gave', 'it', 'to', 'the', 'pig']\n",
      "Sentence to predict:  ['Then', 'he', 'cave', 'it', 'to', 'the', 'pig']\n",
      "Predicted Sentence:  ['Then', 'he', 'gave', 'it', 'to', 'the', 'pig']\n",
      "Accuracy:  1.0\n"
     ]
    },
    {
     "name": "stderr",
     "output_type": "stream",
     "text": [
      "\r",
      " 66%|██████▌   | 66/100 [00:26<00:11,  2.89it/s]"
     ]
    },
    {
     "name": "stdout",
     "output_type": "stream",
     "text": [
      "Actual Sentence:  ['A', 'little', 'while', 'after', 'the', 'pig', 'got', 'up', 'and', 'there', 'beside', 'her', 'were', 'six', 'little', 'pigs']\n",
      "Sentence to predict:  ['A', 'little', 'while', 'after', 'the', 'pig', 'go', 'up', 'and', 'there', 'beside', 'here', 'were', 'six', 'little', 'pigs']\n",
      "Predicted Sentence:  ['A', 'little', 'while', 'after', 'the', 'pig', 'go', 'up', 'and', 'there', 'side', 'here', 'were', 'six', 'little', 'pigs']\n",
      "Accuracy:  0.8\n"
     ]
    },
    {
     "name": "stderr",
     "output_type": "stream",
     "text": [
      "\r",
      " 67%|██████▋   | 67/100 [00:27<00:13,  2.45it/s]"
     ]
    },
    {
     "name": "stdout",
     "output_type": "stream",
     "text": [
      "Actual Sentence:  ['S', 'M', 'Bullimore', 'said', 'that', 'made', 'her', 'better', 'that', 'was', 'not', 'me', 'that', 'was', 'the', 'soap']\n",
      "Sentence to predict:  ['S', 'M', 'Bullimore', 'said', 'that', 'made', 'here', 'better', 'that', 'was', 'not', 'me', 'that', 'was', 'the', 'sope']\n",
      "Predicted Sentence:  ['S', 'M', 'Butlins', 'said', 'that', 'made', 'here', 'better', 'that', 'was', 'not', 'me', 'that', 'was', 'the', 'some']\n",
      "Accuracy:  0.7692307692307693\n"
     ]
    },
    {
     "name": "stderr",
     "output_type": "stream",
     "text": [
      "\r",
      " 68%|██████▊   | 68/100 [00:27<00:11,  2.71it/s]"
     ]
    },
    {
     "name": "stdout",
     "output_type": "stream",
     "text": [
      "Actual Sentence:  ['you', 'are', 'on', 'charge']\n",
      "Sentence to predict:  ['you', 'are', 'on', 'charge']\n",
      "Predicted Sentence:  ['you', 'are', 'on', 'charged']\n",
      "Accuracy:  0.75\n"
     ]
    },
    {
     "name": "stderr",
     "output_type": "stream",
     "text": [
      "\r",
      " 69%|██████▉   | 69/100 [00:27<00:10,  3.09it/s]"
     ]
    },
    {
     "name": "stdout",
     "output_type": "stream",
     "text": [
      "Actual Sentence:  ['what', 'did', 'you', 'give', 'her']\n",
      "Sentence to predict:  ['wat', 'did', 'you', 'give', 'here']\n",
      "Predicted Sentence:  ['what', 'did', 'you', 'give', 'here']\n",
      "Accuracy:  0.8\n"
     ]
    },
    {
     "name": "stderr",
     "output_type": "stream",
     "text": [
      "\r",
      " 70%|███████   | 70/100 [00:28<00:14,  2.03it/s]"
     ]
    },
    {
     "name": "stdout",
     "output_type": "stream",
     "text": [
      "Actual Sentence:  ['I', 'gave', 'her', 'some', 'whiskey', 'and', 'soap', 'you', 'gave', 'her', 'that']\n",
      "Sentence to predict:  ['I', 'cave', 'her', 'some', 'wiskey', 'and', 'sope', 'you', 'cave', 'her', 'that']\n",
      "Predicted Sentence:  ['I', 'have', 'her', 'some', 'whiskey', 'and', 'some', 'you', 'have', 'her', 'that']\n",
      "Accuracy:  0.7777777777777778\n"
     ]
    },
    {
     "name": "stderr",
     "output_type": "stream",
     "text": [
      "\r",
      " 71%|███████   | 71/100 [00:28<00:12,  2.35it/s]"
     ]
    },
    {
     "name": "stdout",
     "output_type": "stream",
     "text": [
      "Actual Sentence:  ['no', 'I', 'never', 'I', 'sir']\n",
      "Sentence to predict:  ['no', 'I', 'knver', 'I', 'sir']\n",
      "Predicted Sentence:  ['no', 'I', 'over', 'I', 'sir']\n",
      "Accuracy:  0.75\n",
      "Actual Sentence:  ['you', 'did']\n",
      "Sentence to predict:  ['you', 'did']\n",
      "Predicted Sentence:  ['you', 'did']\n",
      "Accuracy:  1.0\n"
     ]
    },
    {
     "name": "stderr",
     "output_type": "stream",
     "text": [
      "\r",
      " 73%|███████▎  | 73/100 [00:29<00:07,  3.49it/s]"
     ]
    },
    {
     "name": "stdout",
     "output_type": "stream",
     "text": [
      "Actual Sentence:  ['that', 's', 'one', 'thing', 'sir', 'It', 'has', 'made', 'her', 'better']\n",
      "Sentence to predict:  ['thats', 's', 'one', 'thing', 'sir', 'It', 'has', 'made', 'her', 'better']\n",
      "Predicted Sentence:  ['that', 's', 'one', 'thing', 'sir', 'It', 'has', 'made', 'her', 'better']\n",
      "Accuracy:  1.0\n"
     ]
    },
    {
     "name": "stderr",
     "output_type": "stream",
     "text": [
      "\r",
      " 74%|███████▍  | 74/100 [00:29<00:08,  3.04it/s]"
     ]
    },
    {
     "name": "stdout",
     "output_type": "stream",
     "text": [
      "Actual Sentence:  ['Pigs', 'When', 'young', 'up', 'to', 'being', 'killed', 'for', 'bacon']\n",
      "Sentence to predict:  ['Pigs', 'When', 'young', 'up', 'to', 'being', 'kild', 'for', 'bacon']\n",
      "Predicted Sentence:  ['Pigs', 'When', 'young', 'up', 'to', 'being', 'kind', 'for', 'back']\n",
      "Accuracy:  0.7777777777777778\n"
     ]
    },
    {
     "name": "stderr",
     "output_type": "stream",
     "text": [
      "\r",
      " 75%|███████▌  | 75/100 [00:30<00:13,  1.88it/s]"
     ]
    },
    {
     "name": "stdout",
     "output_type": "stream",
     "text": [
      "Actual Sentence:  ['When', 'they', 'are', 'young', 'you', 'have', 'to', 'wait', '3', 'days', 'then', 'you', 'can', 'inject', 'them', 'for', 'pneumonia', 'diseases']\n",
      "Sentence to predict:  ['When', 'they', 'are', 'young', 'you', 'have', 'to', 'wate', '3', 'days', 'then', 'you', 'can', 'injeck', 'them', 'for', 'pneumonia', 'diseases']\n",
      "Predicted Sentence:  ['When', 'they', 'are', 'young', 'you', 'have', 'to', 'water', '3', 'days', 'then', 'you', 'can', 'neck', 'them', 'for', 'person', 'diesel']\n",
      "Accuracy:  0.7647058823529411\n"
     ]
    },
    {
     "name": "stderr",
     "output_type": "stream",
     "text": [
      "\r",
      " 76%|███████▌  | 76/100 [00:31<00:12,  1.96it/s]"
     ]
    },
    {
     "name": "stdout",
     "output_type": "stream",
     "text": [
      "Actual Sentence:  ['you', 'have', 'make', 'sure', 'they', 'have', 'dry', 'straw']\n",
      "Sentence to predict:  ['you', 'have', 'mack', 'shore', 'they', 'have', 'drye', 'straw']\n",
      "Predicted Sentence:  ['you', 'have', 'pack', 'shore', 'they', 'have', 'dry', 'straw']\n",
      "Accuracy:  0.7142857142857143\n"
     ]
    },
    {
     "name": "stderr",
     "output_type": "stream",
     "text": [
      "\r",
      " 77%|███████▋  | 77/100 [00:32<00:14,  1.55it/s]"
     ]
    },
    {
     "name": "stdout",
     "output_type": "stream",
     "text": [
      "Actual Sentence:  ['when', 'you', 'clean', 'them', 'out', 'you', 'should', 'not', 'leave', 'a', 'fork', 'in', 'with', 'them', 'because', 'the', 'mother', 'might', 'knock', 'it', 'down', 'and', 'the', 'little', 'pigs', 'might', 'stab', 'themselves']\n",
      "Sentence to predict:  ['when', 'you', 'clean', 'them', 'out', 'you', 'should', 'not', 'leave', 'a', 'falk', 'in', 'with', 'them', 'because', 'the', 'mother', 'might', 'nock', 'it', 'down', 'and', 'the', 'little', 'pigs', 'might', 'stab', 'them_souve']\n",
      "Predicted Sentence:  ['when', 'you', 'clean', 'them', 'out', 'you', 'should', 'not', 'leave', 'a', 'fall', 'in', 'with', 'them', 'because', 'the', 'mother', 'might', 'knock', 'it', 'down', 'and', 'the', 'little', 'pigs', 'might', 'stay', 'themselves']\n",
      "Accuracy:  0.9166666666666666\n"
     ]
    },
    {
     "name": "stderr",
     "output_type": "stream",
     "text": [
      "\r",
      " 78%|███████▊  | 78/100 [00:32<00:13,  1.66it/s]"
     ]
    },
    {
     "name": "stdout",
     "output_type": "stream",
     "text": [
      "Actual Sentence:  ['we', 'give', 'them', 'worm', 'powder']\n",
      "Sentence to predict:  ['we', 'give', 'the', 'worme', 'pouder']\n",
      "Predicted Sentence:  ['we', 'give', 'the', 'worms', 'wonder']\n",
      "Accuracy:  0.4\n"
     ]
    },
    {
     "name": "stderr",
     "output_type": "stream",
     "text": [
      " 82%|████████▏ | 82/100 [00:33<00:04,  3.85it/s]"
     ]
    },
    {
     "name": "stdout",
     "output_type": "stream",
     "text": [
      "Actual Sentence:  ['that', 'is', 'when', 'they', 'get', 'the', 'worm']\n",
      "Sentence to predict:  ['that', 'is', 'when', 'they', 'get', 'the', 'worme']\n",
      "Predicted Sentence:  ['that', 'is', 'when', 'they', 'get', 'the', 'worms']\n",
      "Accuracy:  0.8571428571428571\n",
      "Actual Sentence:  ['this', 'will', 'stop', 'them', 'from', 'going', 'thin']\n",
      "Sentence to predict:  ['this', 'will', 'stop', 'them', 'from', 'going', 'thin']\n",
      "Predicted Sentence:  ['this', 'will', 'stop', 'them', 'from', 'going', 'thin']\n",
      "Accuracy:  1.0\n",
      "Actual Sentence:  ['you', 'should', 'box', 'a', 'little', 'place', 'off', 'so', 'only', 'the', 'little', 'pigs', 'can', 'get', 'in', 'it']\n",
      "Sentence to predict:  ['you', 'should', 'box', 'a', 'little', 'place', 'off', 'so', 'only', 'the', 'little', 'pigs', 'can', 'get', 'in', 'it']\n",
      "Predicted Sentence:  ['you', 'should', 'box', 'a', 'little', 'place', 'off', 'so', 'only', 'the', 'little', 'pigs', 'can', 'get', 'in', 'it']\n",
      "Accuracy:  1.0\n",
      "Actual Sentence:  ['that', 'is', 'so', 'they', 'can', 'get', 'out', 'of', 'the', 'way', 'of', 'their', 'mother']\n",
      "Sentence to predict:  ['that', 'is', 'so', 'they', 'can', 'ge', 'out', 'of', 'the', 'way', 'of', 'there', 'mother']\n",
      "Predicted Sentence:  ['that', 'is', 'so', 'they', 'can', 'go', 'out', 'of', 'the', 'way', 'of', 'there', 'mother']\n",
      "Accuracy:  0.8333333333333334\n"
     ]
    },
    {
     "name": "stderr",
     "output_type": "stream",
     "text": [
      "\r",
      " 83%|████████▎ | 83/100 [00:33<00:05,  3.28it/s]"
     ]
    },
    {
     "name": "stdout",
     "output_type": "stream",
     "text": [
      "Actual Sentence:  ['some', 'people', 'put', 'a', 'light', 'in', 'with', 'them', 'to', 'keep', 'them', 'warm']\n",
      "Sentence to predict:  ['some', 'people', 'put', 'a', 'light', 'in', 'with', 'theme', 'to', 'geep', 'them', 'warm']\n",
      "Predicted Sentence:  ['some', 'people', 'put', 'a', 'light', 'in', 'with', 'them', 'to', 'peep', 'them', 'warm']\n",
      "Accuracy:  0.9090909090909091\n",
      "Actual Sentence:  ['you', 'have', 'to', 'make', 'sure', 'that', 'mother', 'has', 'a', 'lot', 'of', 'milk']\n",
      "Sentence to predict:  ['you', 'have', 'to', 'make', 'shore', 'that', 'mother', 'has', 'a', 'lot', 'of', 'milk']\n",
      "Predicted Sentence:  ['you', 'have', 'to', 'make', 'shore', 'that', 'mother', 'has', 'a', 'lot', 'of', 'milk']\n",
      "Accuracy:  0.9166666666666666\n"
     ]
    },
    {
     "name": "stderr",
     "output_type": "stream",
     "text": [
      "\r",
      " 85%|████████▌ | 85/100 [00:34<00:04,  3.32it/s]"
     ]
    },
    {
     "name": "stdout",
     "output_type": "stream",
     "text": [
      "Actual Sentence:  ['If', 'she', 'has', 'not', 'got', 'enough', 'milk', 'you', 'will', 'have', 'to', 'feed', 'them', 'on', 'a', 'bottle']\n",
      "Sentence to predict:  ['If', 'she', 'as', 'not', 'got', 'a_nougth', 'milk', 'you', 'will', 'have', 'to', 'feed', 'them', 'on', 'a', 'bottle']\n",
      "Predicted Sentence:  ['If', 'she', 'as', 'not', 'got', 'enough', 'milk', 'you', 'will', 'have', 'to', 'feed', 'them', 'on', 'a', 'little']\n",
      "Accuracy:  0.875\n"
     ]
    },
    {
     "name": "stderr",
     "output_type": "stream",
     "text": [
      "\r",
      " 86%|████████▌ | 86/100 [00:34<00:04,  2.96it/s]"
     ]
    },
    {
     "name": "stdout",
     "output_type": "stream",
     "text": [
      "Actual Sentence:  ['when', 'they', 'can', 'eat', 'a', 'little', 'bit', 'you', 'can', 'get', 'them', 'some', 'little', 'nuts', 'for', 'fattening']\n",
      "Sentence to predict:  ['when', 'they', 'came', 'eat', 'a', 'little', 'bit', 'you', 'can', 'get', 'them', 'some', 'little', 'nuts', 'of', 'fating']\n",
      "Predicted Sentence:  ['when', 'they', 'came', 'eat', 'a', 'little', 'bit', 'you', 'can', 'get', 'them', 'some', 'little', 'guts', 'of', 'Waiting']\n",
      "Accuracy:  0.7857142857142857\n"
     ]
    },
    {
     "name": "stderr",
     "output_type": "stream",
     "text": [
      "\r",
      " 87%|████████▋ | 87/100 [00:35<00:04,  2.70it/s]"
     ]
    },
    {
     "name": "stdout",
     "output_type": "stream",
     "text": [
      "Actual Sentence:  ['they', 'can', 'eat', 'some', 'meal', 'when', 'they', 'get', 'a', 'little', 'bigger']\n",
      "Sentence to predict:  ['they', 'can', 'eate', 'some', 'meal', 'when', 'they', 'get', 'a', 'little', 'biger']\n",
      "Predicted Sentence:  ['they', 'can', 'Date', 'some', 'meal', 'when', 'they', 'get', 'a', 'little', 'bigger']\n",
      "Accuracy:  0.9\n"
     ]
    },
    {
     "name": "stderr",
     "output_type": "stream",
     "text": [
      "\r",
      " 88%|████████▊ | 88/100 [00:35<00:04,  2.45it/s]"
     ]
    },
    {
     "name": "stdout",
     "output_type": "stream",
     "text": [
      "Actual Sentence:  ['we', 'give', 'them', 'some', 'fattening', 'food', 'called', 'Nomber', '2']\n",
      "Sentence to predict:  ['we', 'give', 'them', 'some', 'fating', 'food', 'called', 'Nomber', '2']\n",
      "Predicted Sentence:  ['we', 'give', 'them', 'some', 'Racing', 'food', 'called', 'November', '2']\n",
      "Accuracy:  0.7777777777777778\n"
     ]
    },
    {
     "name": "stderr",
     "output_type": "stream",
     "text": [
      "\r",
      " 89%|████████▉ | 89/100 [00:36<00:05,  2.12it/s]"
     ]
    },
    {
     "name": "stdout",
     "output_type": "stream",
     "text": [
      "Actual Sentence:  ['when', 'you', 'wean', 'that', 'is', 'take', 'them', 'from', 'their', 'mother', 'you', 'have', 'got', 'to', 'see', 'if', 'they', 'fight', 'if', 'there', 'is', 'any', 'little', 'ones']\n",
      "Sentence to predict:  ['whe', 'you', 'wean', 'that', 'is', 'take', 'them', 'from', 'their', 'mother', 'you', 'have', 'got', 'to', 'see', 'if', 'they', 'fight', 'if', 'there', 'is', 'any', 'little', 'wones']\n",
      "Predicted Sentence:  ['when', 'you', 'mean', 'that', 'is', 'take', 'them', 'from', 'their', 'mother', 'you', 'have', 'got', 'to', 'see', 'if', 'they', 'fight', 'if', 'there', 'is', 'any', 'little', 'ones']\n",
      "Accuracy:  0.9523809523809523\n",
      "Actual Sentence:  ['fighting']\n",
      "Sentence to predict:  ['fighting']\n",
      "Predicted Sentence:  ['fighting']\n",
      "Accuracy:  1.0\n"
     ]
    },
    {
     "name": "stderr",
     "output_type": "stream",
     "text": [
      "\r",
      " 91%|█████████ | 91/100 [00:36<00:03,  2.67it/s]"
     ]
    },
    {
     "name": "stdout",
     "output_type": "stream",
     "text": [
      "Actual Sentence:  ['when', 'they', 'are', 'big', 'you', 'have', 'to', 'see', 'about', 'weighing']\n",
      "Sentence to predict:  ['when', 'they', 'and', 'bing', 'you', 'have', 'to', 'see', 'about', 'waying']\n",
      "Predicted Sentence:  ['when', 'they', 'and', 'big', 'you', 'have', 'to', 'see', 'about', 'waving']\n",
      "Accuracy:  0.8\n"
     ]
    },
    {
     "name": "stderr",
     "output_type": "stream",
     "text": [
      "\r",
      " 92%|█████████▏| 92/100 [00:37<00:03,  2.26it/s]"
     ]
    },
    {
     "name": "stdout",
     "output_type": "stream",
     "text": [
      "Actual Sentence:  ['when', 'they', 'have', 'been', 'weighed', 'and', 'ready', 'to', 'go', 'away', 'to', 'be', 'killed']\n",
      "Sentence to predict:  ['when', 'they', 'have', 'been', 'waid', 'and', 'reddy', 'to', 'go', 'away', 'to', 'be', 'kild']\n",
      "Predicted Sentence:  ['when', 'they', 'have', 'been', 'wait', 'and', 'ready', 'to', 'go', 'away', 'to', 'be', 'kind']\n",
      "Accuracy:  0.8333333333333334\n"
     ]
    },
    {
     "name": "stderr",
     "output_type": "stream",
     "text": [
      "\r",
      " 93%|█████████▎| 93/100 [00:38<00:03,  1.78it/s]"
     ]
    },
    {
     "name": "stdout",
     "output_type": "stream",
     "text": [
      "Actual Sentence:  ['Billy', 'Bunter', 'was', 'too', 'large', 'So', 'they', 'sent', 'for', 'Him', 'in', 'charge']\n",
      "Sentence to predict:  ['Billy', 'Bunter', 'was', 'to', 'large', 'So', 'they', 'sent', 'for', 'Im', 'in', 'charge']\n",
      "Predicted Sentence:  ['silly', 'counter', 'was', 'to', 'large', 'So', 'they', 'sent', 'for', 'It', 'in', 'charged']\n",
      "Accuracy:  0.5833333333333334\n"
     ]
    },
    {
     "name": "stderr",
     "output_type": "stream",
     "text": [
      "\r",
      " 94%|█████████▍| 94/100 [00:39<00:03,  1.59it/s]"
     ]
    },
    {
     "name": "stdout",
     "output_type": "stream",
     "text": [
      "Actual Sentence:  ['Him', 'in', 'charge', 'was', 'too', 'thin', 'So', 'they', 'sent', 'for', 'Rin', 'Tin', 'Tin']\n",
      "Sentence to predict:  ['Im', 'in', 'charge', 'was', 'to', 'thin', 'So', 'they', 'sent', 'fro', 'Rin', 'Tin', 'Tin']\n",
      "Predicted Sentence:  ['am', 'in', 'charged', 'was', 'to', 'thin', 'So', 'they', 'sent', 'from', 'in', 'Tin', 'Tin']\n",
      "Accuracy:  0.5833333333333334\n"
     ]
    },
    {
     "name": "stderr",
     "output_type": "stream",
     "text": [
      "\r",
      " 95%|█████████▌| 95/100 [00:39<00:03,  1.54it/s]"
     ]
    },
    {
     "name": "stdout",
     "output_type": "stream",
     "text": [
      "Actual Sentence:  ['Rin', 'Tin', 'Tin', 'heart', 'is', 'poor', 'So', 'they', 'sent', 'for', 'Barbra', 'Moore']\n",
      "Sentence to predict:  ['Rin', 'Tin', 'Tin', 'heart', 'is', 'poor', 'So', 'they', 'sent', 'for', 'Barbra', 'Moore']\n",
      "Predicted Sentence:  ['in', 'Tin', 'Tin', 'heart', 'is', 'poor', 'So', 'they', 'sent', 'for', 'Carr', 'door']\n",
      "Accuracy:  0.7272727272727273\n"
     ]
    },
    {
     "name": "stderr",
     "output_type": "stream",
     "text": [
      "\r",
      " 96%|█████████▌| 96/100 [00:40<00:02,  1.35it/s]"
     ]
    },
    {
     "name": "stdout",
     "output_type": "stream",
     "text": [
      "Actual Sentence:  ['Barbra', 'Moore', 'was', 'having', 'dinner', 'So', 'they', 'sent', 'for', 'Yule', 'Brinner']\n",
      "Sentence to predict:  ['Barbra', 'Moore', 'was', 'having', 'dinner', 'So', 'the', 'sent', 'for', 'Yule', 'Brinner']\n",
      "Predicted Sentence:  ['Carr', 'door', 'was', 'having', 'dinner', 'So', 'the', 'sent', 'for', 'full', 'dinner']\n",
      "Accuracy:  0.5454545454545454\n"
     ]
    },
    {
     "name": "stderr",
     "output_type": "stream",
     "text": [
      "\r",
      " 97%|█████████▋| 97/100 [00:42<00:02,  1.18it/s]"
     ]
    },
    {
     "name": "stdout",
     "output_type": "stream",
     "text": [
      "Actual Sentence:  ['Yule', 'Brinner', 'sang', 'too', 'high', 'Then', 'they', 'went', 'to', 'space', 'in', 'the', 'sky']\n",
      "Sentence to predict:  ['Yule', 'Brinner', 'sang', 'to', 'high', 'Then', 'they', 'went', 'to', 'space', 'in', 'the', 'sky']\n",
      "Predicted Sentence:  ['full', 'dinner', 'sand', 'to', 'high', 'Then', 'they', 'went', 'to', 'race', 'in', 'the', 'say']\n",
      "Accuracy:  0.5384615384615384\n"
     ]
    },
    {
     "name": "stderr",
     "output_type": "stream",
     "text": [
      "\r",
      " 98%|█████████▊| 98/100 [00:42<00:01,  1.15it/s]"
     ]
    },
    {
     "name": "stdout",
     "output_type": "stream",
     "text": [
      "Actual Sentence:  ['My', 'heart', 'is', 'full', 'of', 'sadness', 'My', 'heart', 'is', 'full', 'of', 'joy', 'It', 'might', 'be', 'my', 'wife', 'Or', 'it', 'might', 'be', 'Helen', 'of', 'Troy']\n",
      "Sentence to predict:  ['My', 'heart', 'is', 'full', 'of', 'sadness', 'My', 'heart', 'is', 'full', 'of', 'joy', 'It', 'might', 'be', 'my', 'wife', 'Or', 'it', 'might', 'be', 'Helen', 'of', 'Toy']\n",
      "Predicted Sentence:  ['My', 'heart', 'is', 'full', 'of', 'dress', 'My', 'heart', 'is', 'full', 'of', 'boy', 'It', 'might', 'be', 'my', 'wife', 'Or', 'it', 'might', 'be', 'seven', 'of', 'boy']\n",
      "Accuracy:  0.75\n"
     ]
    },
    {
     "name": "stderr",
     "output_type": "stream",
     "text": [
      "\r",
      " 99%|█████████▉| 99/100 [00:43<00:00,  1.31it/s]"
     ]
    },
    {
     "name": "stdout",
     "output_type": "stream",
     "text": [
      "Actual Sentence:  ['One', 'Saturday', 'I', 'thought', 'I', 'would', 'go', 'to', 'the', 'Races', 'at', 'London']\n",
      "Sentence to predict:  ['One', 'Saturday', 'I', 'though', 'I', 'would', 'go', 'to', 'the', 'Races', 'at', 'London']\n",
      "Predicted Sentence:  ['One', 'Saturday', 'I', 'thought', 'I', 'would', 'go', 'to', 'the', 'race', 'at', 'London']\n",
      "Accuracy:  0.9090909090909091\n"
     ]
    },
    {
     "name": "stderr",
     "output_type": "stream",
     "text": [
      "100%|██████████| 100/100 [00:43<00:00,  2.29it/s]"
     ]
    },
    {
     "name": "stdout",
     "output_type": "stream",
     "text": [
      "Actual Sentence:  ['I', 'went', 'on', 'my', 'Royal', 'Enfield']\n",
      "Sentence to predict:  ['I', 'went', 'on', 'my', 'Royl', 'Enfield']\n",
      "Predicted Sentence:  ['I', 'went', 'on', 'my', 'Royal', 'Enfield']\n",
      "Accuracy:  1.0\n",
      "************************************************EVALUATION**********************************************************\n",
      "Average Accuracy of words in each sentence:  82.7862 %\n",
      "24 out of 100 sentences predicted correctly without any error.\n"
     ]
    },
    {
     "name": "stderr",
     "output_type": "stream",
     "text": [
      "\n"
     ]
    }
   ],
   "source": [
    "def accuracy(actual_sent, sent_pred):\n",
    "    \"\"\"This is based on word to word accuracy calculation. Compares each word with the actual word and calculate accuracy\"\"\"\n",
    "    actual = actual_sent\n",
    "    predict = correct(sent_pred)\n",
    "    # If the blank sentence i.e for a blank line predicted is also blank take accuracy as 1\n",
    "    if len(actual) == 0 and len(predict)==0:\n",
    "        accuracy = 1.0\n",
    "    else:\n",
    "        # Take all predicted words same as actual word and divide by lenght of sentence\n",
    "        accuracy = len(set(predict) & set(actual))/len(set(actual))\n",
    "    \n",
    "    print(\"Actual Sentence: \", actual)\n",
    "    print(\"Sentence to predict: \", sent_pred)\n",
    "    print(\"Predicted Sentence: \", predict)\n",
    "    print(\"Accuracy: \", accuracy)\n",
    "    \n",
    "    return accuracy\n",
    "\n",
    "acc = []\n",
    "for i in tqdm(range(len(test_corrected))):\n",
    "    acc.append(accuracy(test_corrected[i], test_original[i]))\n",
    "    \n",
    "initial_acc = round(sum(acc)/len(acc)*100, 4)\n",
    "\n",
    "print(\"************************************************EVALUATION**********************************************************\")\n",
    "print(\"Average Accuracy of words in each sentence: \", initial_acc, \"%\")\n",
    "print(acc.count(1), \"out of 100 sentences predicted correctly without any error.\")"
   ]
  },
  {
   "cell_type": "markdown",
   "metadata": {
    "collapsed": true
   },
   "source": [
    "## Step 9 : Enhancements done to Increase Accuracy \n",
    "*****************************************************************\n",
    "\n",
    "Consider a modification to your algorithm that would improve the accuracy of the algorithm developed in Step 6 and 7"
   ]
  },
  {
   "cell_type": "markdown",
   "metadata": {},
   "source": [
    "### Modification Ideas and Implementation:\n",
    "*****************************************************************\n",
    "\n",
    "#### 1. Addition of few changes (Implemented):\n",
    "*****************************************************************\n",
    "* Used wordnet.words() to see if the word is valid word.\n",
    "* Used lemmatization and stemming to get base/stemmed for the each word in sentence and check the new lemmatized word is present in training data or words.words() - Reason for this is words may appear in different forms and there is possibility that they may not be present in training data and wordnet. However, it is valid word. Hence to detect this - I used lemmatization and stemming.\n",
    "* Ignoring the numbers (dont correct the numbers like page number and date etc.). If this is not implemented the number in test data is replaced with most nearest number in training data to avoid this we need to ignore ditigits and dates.\n",
    "*****************************************************************\n",
    "#### 2. Tense Detection (Implemented):\n",
    "*****************************************************************\n",
    "Key Idea here is to identify the tense of the sentence. My approach for this is pos_tag the sentence and identify the tags. If the tag has 'VBN' or 'VBD' then the sentence is past tense, add 'ed' at the end of each word in suggestion and check if the new word is present in dictionary. If yes, then take the bigram probaility else ignore. Similary, handled continuous tense \"VBG\".\n",
    "*****************************************************************\n",
    "#### 3. Word Forms (Implemented):\n",
    "*****************************************************************\n",
    "key Idea here is to take the derivative of the words using nltk derivationally_related_forms. For every suggested word from get_candidates function take the derivative of the suggested words. Then take the bigram probability to identify most probable word to replace the wrong word in the sentense.\n",
    "*****************************************************************\n",
    "#### 4. Named Entity Recognition (NER) (Implemented):\n",
    "*****************************************************************\n",
    "This stage is important stage and contribute to a significant difference in performance because given data set contains lots of named entities which are not present in training data. Hence used nltk library for detecting named entities.\n",
    "*****************************************************************\n",
    "<u>Procedure:</u>\n",
    "Note: Case of the words should not be ignored. If ignored, nltk library fail to identify the Named Entites.\n",
    "* pos_tag a sentence.\n",
    "* Take ne_chunk of the pos_tagged sentence.\n",
    "* For each chunk (subtree) extract the named entities and its label.\n",
    "* Store the named entites in a seperate list.\n",
    "* Hence, if the word is present in named entites list do not make corrrection - pass without calculating any probabilities.\n",
    "E.g. Output from step 6 and step 7 (before implementation of named entities) for sentence <b>\"NIGEL THRUSH page 48\"</b>, is <b>\"JILL THE page 48\"</b>, because word <b>NIGEL</b> and <b>THRUSH</b> is not present in training data. After implementing of named entities NIGEL THRUSH is recognised as named entities. Hence the predicted sentence is <b>\"NIGEL THRUSH page 48\"</b>.\n",
    "*****************************************************************\n",
    "#### 5. Sentence Sentence Similarity (Implemented): - But not useful - Need huge amount of training data\n",
    "*****************************************************************\n",
    " In this stage sentence need to be corrected (test sentence) is comapred with training corrected sentence and taken a similarity ratio using sequence matcher. If the ratio is more than 97% then we can say that only small error in test sentence. Hence replace the test sentence with corresponding sentence.\n",
    "*****************************************************************\n",
    "#### 6. Trigrams (Not Impemented):\n",
    "*****************************************************************\n",
    " Trigram probability can also be implemented and may result in slightly better performance. Moreover, most of the sentences are short sentences and hence I believe trigram probability may not result much increase in performance. However, this need to be experimented and observe the results.\n",
    "*****************************************************************\n",
    "#### 7. Collecting More Data and Validating Words with Standard Dictionary (Not Implemented):\n",
    "*****************************************************************\n",
    "From observation, if we collect more training data there is a posibility of better results. In addition, I have used nltk words.words() to check if the word is a valid word or not. However, nltk words.words() contains few error in words which result in wron prediction. Hence, instead of words.words() if we use any standard dictionary to validate the words may result in slight increase in accuracy.\n",
    "*****************************************************************\n",
    "#### 8. Smoothing (Not Implemented):\n",
    "*****************************************************************\n",
    "Can also implement different smoothing techniques to avoid zero brobability.\n",
    "*****************************************************************"
   ]
  },
  {
   "cell_type": "code",
   "execution_count": 13,
   "metadata": {},
   "outputs": [],
   "source": [
    "def tense(suggestion, sentence):    \n",
    "    \"\"\"Tense Detection\"\"\"\n",
    "    tag = dict(nltk.pos_tag(sentence)).values()\n",
    "    past_tense = ['VBN', 'VBD']\n",
    "    conti_tense = ['VBG']\n",
    "    \n",
    "    # If sentence is past tense append ed and check if it is valid word\n",
    "    if any(x in tag for x in past_tense):\n",
    "        sug = []\n",
    "        for a in suggestion:\n",
    "            if a.lower()+'ed' in unique_words:\n",
    "                sug.append(a+'ed')\n",
    "        for aelem in sug:\n",
    "            suggestion.append(aelem)\n",
    "            \n",
    "    # If sentence is past tense append ed and check if it is valid word\n",
    "    if any(x in tag for x in conti_tense):\n",
    "        sug = []\n",
    "        for b in suggestion:\n",
    "            if b.lower()+'ing' in unique_words:\n",
    "                sug.append(b+'ing')\n",
    "        for belem in sug:\n",
    "            suggestion.append(belem)\n",
    "        \n",
    "    return suggestion "
   ]
  },
  {
   "cell_type": "code",
   "execution_count": 14,
   "metadata": {},
   "outputs": [
    {
     "name": "stdout",
     "output_type": "stream",
     "text": [
      "['Boar', 'Melton', 'Bridgebrook', 'Smallerden']\n"
     ]
    }
   ],
   "source": [
    "def named_entity(sentence):\n",
    "    \"\"\"Named Entity Detection using nltk.pos_tag and nltk.ne_chunk\"\"\"\n",
    "    l = []\n",
    "    for chunk in nltk.ne_chunk(nltk.pos_tag(sentence)):\n",
    "        # If any named tag like PERSON, ORGANIZATION or GEOLOCATION append to list.\n",
    "          if hasattr(chunk, 'label'):\n",
    "            l.append(' '.join(c[0] for c in chunk))\n",
    "    \n",
    "    if len(l) != 0:\n",
    "        l = \" \".join(l)\n",
    "        l = l.split(\" \")\n",
    "        \n",
    "    return l\n",
    "\n",
    "print(named_entity(['I', 'live', 'at', 'Boar', 'Parva', 'it', 'is', 'near', 'Melton', 'and', 'Bridgebrook', 'and', 'Smallerden']))"
   ]
  },
  {
   "cell_type": "code",
   "execution_count": 15,
   "metadata": {},
   "outputs": [],
   "source": [
    "def word_forms_new(suggest):\n",
    "    \"\"\"Taking different forms of words using derivationally related forms\"\"\"\n",
    "    sug_form = []\n",
    "    for w in suggest:\n",
    "        forms = set()\n",
    "        for i in wn.lemmas(w):\n",
    "            forms.add(i.name())\n",
    "            for j in i.derivationally_related_forms():\n",
    "                forms.add(j.name())\n",
    "        \n",
    "        for a in list(forms):\n",
    "            sug_form.append(a)\n",
    "    \n",
    "    for q in sug_form:\n",
    "        suggest.append(q)\n",
    "    \n",
    "    word_forms = []\n",
    "    [word_forms.append(i) for i in suggest if not i in word_forms]\n",
    "    return word_forms"
   ]
  },
  {
   "cell_type": "code",
   "execution_count": 16,
   "metadata": {},
   "outputs": [
    {
     "data": {
      "text/plain": [
       "['wait', 'said', 'laid', 'paid', 'wad', 'waited', 'waiting', 'waiter']"
      ]
     },
     "execution_count": 16,
     "metadata": {},
     "output_type": "execute_result"
    }
   ],
   "source": [
    "def conditions(corrected, cr_ind):\n",
    "    \"\"\"Common word - Oclock is not detecting. Hence handling manually but not necessary\"\"\"\n",
    "    \n",
    "    if 'oclock' in corrected:\n",
    "        ind = corrected.index('oclock')\n",
    "        corrected = list(map(lambda x: str.replace(x, \"oclock\", \"clock\"), corrected))\n",
    "        corrected.insert(ind, 'o')\n",
    "        return corrected\n",
    "        \n",
    "    return corrected\n",
    "\n",
    "word_forms_new(['wait', 'said', 'laid', 'paid', 'wad', 'waited'])"
   ]
  },
  {
   "cell_type": "code",
   "execution_count": 17,
   "metadata": {},
   "outputs": [],
   "source": [
    "def sentence_sentence_similarity(sentence1):\n",
    "    \"\"\"Sentence - Sentence similarity using sequence matcher. We can also use cosine similarity but not implemented\"\"\"\n",
    "    correc = []\n",
    "    for d in train_corrected:\n",
    "        ratio = SequenceMatcher(None, \" \".join(d), \" \".join(sentence1)).ratio()\n",
    "        if ratio > 98:\n",
    "            correc.append(d)\n",
    "    \n",
    "    if len(correc) == 1:\n",
    "        return correc[0]\n",
    "    else:\n",
    "        return []"
   ]
  },
  {
   "cell_type": "code",
   "execution_count": 18,
   "metadata": {},
   "outputs": [
    {
     "name": "stdout",
     "output_type": "stream",
     "text": [
      "['My', 'Mum', 'got', 'out', 'sometimes']\n"
     ]
    }
   ],
   "source": [
    "def correct_mod(sentence):\n",
    "    sts = ['oclock']\n",
    "    corrected = []\n",
    "    cnt = 0\n",
    "    indexes = []\n",
    "    #To check stemmed word in dictonary or not\n",
    "    stemmer = PorterStemmer()\n",
    "    status = 0\n",
    "    #This will extract all named entities of a sentence\n",
    "    n_en = named_entity(sentence)\n",
    "    \n",
    "    for i in sentence:\n",
    "        # Check for sentence similarity\n",
    "        corr = sentence_sentence_similarity(i)\n",
    "        if len(corr) == 1:\n",
    "            return corr\n",
    "        # Ignoring digits like page number and lemmatizing the word and check if it is present in dictionary and use words.words() for word validation.\n",
    "        elif i.lower() not in unique_words and not i.isdigit() and lemmatizer.lemmatize(i.lower()) not in unique_words and i not in n_en and i not in sts and i not in wn.words() and stemmer.stem(i) not in wn.words():\n",
    "            indexes.append(cnt)\n",
    "            if len(get_candidates(i)) > 1:\n",
    "                # Get words forms, tense detection for suggested sentence\n",
    "                suggestion = get_candidates(i)\n",
    "                suggestion = tense(suggestion, sentence)\n",
    "                wd_fms = word_forms_new(suggestion)\n",
    "                suggestion = wd_fms\n",
    "\n",
    "                prob = []\n",
    "                \n",
    "                # Bigram probabilities\n",
    "                for sug in suggestion:\n",
    "\n",
    "                    # Check the misspelled word is first or last word of the sentence\n",
    "                    if ((cnt != 0) and (cnt != len(sentence)-1)):\n",
    "\n",
    "                        try:\n",
    "                            p1 = cf_biag[sug.lower()].prob(sentence[cnt+1].lower())\n",
    "                            p2 = cf_biag[corrected[len(corrected)-1].lower()].prob(sug.lower())\n",
    "                            p = p1 * p2\n",
    "                            prob.append(p)   \n",
    "                        except:\n",
    "                            prob.append(0)\n",
    "\n",
    "                    else:\n",
    "                        #If mispelled word is last word of a sencence take probaility of previous word\n",
    "                        if cnt == len(sentence)-1:\n",
    "                            try:\n",
    "                                p2 = cf_biag[corrected[len(corrected)-1].lower()].prob(sug.lower())\n",
    "                                prob.append(p2)\n",
    "                            except:\n",
    "                                prob.append(0)\n",
    "\n",
    "\n",
    "                        elif cnt == 0:\n",
    "                            #If mispelled word is first word of a sencence take probaility of next word\n",
    "                            try:\n",
    "                                p1 = cf_biag[sug.lower()].prob(sentence[cnt+1].lower())\n",
    "                                prob.append(p1)\n",
    "                            except:\n",
    "                                prob.append(0)\n",
    "              \n",
    "                if len(suggestion[prob.index(max(prob))]) > 1:\n",
    "                    corrected.append(suggestion[prob.index(max(prob))])\n",
    "                else:\n",
    "                    corrected.append(suggestion[prob.index(max(prob))])\n",
    "\n",
    "            else:\n",
    "                corrected.append(get_candidates(i)[0])\n",
    "\n",
    "        else:\n",
    "            corrected.append(i)\n",
    "\n",
    "        cnt = cnt+1\n",
    "        # Manula hadling 'Oclock'\n",
    "        corrected = conditions(corrected, indexes)\n",
    "    \n",
    "    fin = sentence_sentence_similarity(corrected)\n",
    "    if len(fin) != 0:\n",
    "        return fin\n",
    "    else:\n",
    "        return corrected\n",
    "\n",
    "print(correct_mod(['My', 'Mum', 'goe', 'out', 'some_times']))"
   ]
  },
  {
   "cell_type": "markdown",
   "metadata": {},
   "source": [
    "### Step 10 : Model Evaluation:\n",
    "*****************************************************************\n",
    "Repeat the evaluation (as in Step 8) of your new algorithm and show that it outperforms the algorithm from Step 6 and 7"
   ]
  },
  {
   "cell_type": "code",
   "execution_count": 19,
   "metadata": {},
   "outputs": [
    {
     "name": "stderr",
     "output_type": "stream",
     "text": [
      "\r",
      "  0%|          | 0/100 [00:00<?, ?it/s]"
     ]
    },
    {
     "name": "stdout",
     "output_type": "stream",
     "text": [
      "Actual Sentence:  ['1']\n",
      "Sentence to predict:  ['1']\n",
      "Predicted Sentence:  ['1']\n",
      "Accuracy:  1.0\n"
     ]
    },
    {
     "name": "stderr",
     "output_type": "stream",
     "text": [
      "\r",
      "  2%|▏         | 2/100 [00:00<00:27,  3.55it/s]"
     ]
    },
    {
     "name": "stdout",
     "output_type": "stream",
     "text": [
      "Actual Sentence:  ['NIGEL', 'THRUSH', 'page', '48']\n",
      "Sentence to predict:  ['NIGEL', 'THRUSH', 'page', '48']\n",
      "Predicted Sentence:  ['NIGEL', 'THRUSH', 'page', '48']\n",
      "Accuracy:  1.0\n"
     ]
    },
    {
     "name": "stderr",
     "output_type": "stream",
     "text": [
      "\r",
      "  3%|▎         | 3/100 [00:01<01:00,  1.60it/s]"
     ]
    },
    {
     "name": "stdout",
     "output_type": "stream",
     "text": [
      "Actual Sentence:  ['I', 'have', 'four', 'in', 'my', 'Family', 'Dad', 'Mum', 'and', 'sister']\n",
      "Sentence to predict:  ['I', 'have', 'four', 'in', 'my', 'Family', 'Dad', 'Mum', 'and', 'siter']\n",
      "Predicted Sentence:  ['I', 'have', 'four', 'in', 'my', 'Family', 'Dad', 'Mum', 'and', 'sister']\n",
      "Accuracy:  1.0\n"
     ]
    },
    {
     "name": "stderr",
     "output_type": "stream",
     "text": [
      "\r",
      "  4%|▍         | 4/100 [00:02<00:55,  1.73it/s]"
     ]
    },
    {
     "name": "stdout",
     "output_type": "stream",
     "text": [
      "Actual Sentence:  ['My', 'Dad', 'works', 'at', 'Melton']\n",
      "Sentence to predict:  ['My', 'Dad', 'works', 'at', 'Melton']\n",
      "Predicted Sentence:  ['My', 'Dad', 'works', 'at', 'Melton']\n",
      "Accuracy:  1.0\n"
     ]
    },
    {
     "name": "stderr",
     "output_type": "stream",
     "text": [
      "\r",
      "  5%|▌         | 5/100 [00:02<01:00,  1.57it/s]"
     ]
    },
    {
     "name": "stdout",
     "output_type": "stream",
     "text": [
      "Actual Sentence:  ['My', 'sister', 'goes', 'to', 'Tonbury']\n",
      "Sentence to predict:  ['My', 'siter', 'go', 'to', 'Tonbury']\n",
      "Predicted Sentence:  ['My', 'sister', 'go', 'to', 'Tonbury']\n",
      "Accuracy:  0.8\n"
     ]
    },
    {
     "name": "stderr",
     "output_type": "stream",
     "text": [
      "\r",
      "  6%|▌         | 6/100 [00:03<01:07,  1.40it/s]"
     ]
    },
    {
     "name": "stdout",
     "output_type": "stream",
     "text": [
      "Actual Sentence:  ['My', 'Mum', 'goes', 'out', 'sometimes']\n",
      "Sentence to predict:  ['My', 'Mum', 'goes', 'out', 'some_times']\n",
      "Predicted Sentence:  ['My', 'Mum', 'goes', 'out', 'sometimes']\n",
      "Accuracy:  1.0\n"
     ]
    },
    {
     "name": "stderr",
     "output_type": "stream",
     "text": [
      "\r",
      "  7%|▋         | 7/100 [00:05<01:43,  1.11s/it]"
     ]
    },
    {
     "name": "stdout",
     "output_type": "stream",
     "text": [
      "Actual Sentence:  ['I', 'go', 'to', 'Bridgebrook', 'i', 'go', 'out', 'sometimes', 'on', 'Tuesday', 'night', 'i', 'go', 'to', 'Youth', 'club']\n",
      "Sentence to predict:  ['I', 'go', 'to', 'Bridgebrook', 'i', 'go', 'out', 'some_times', 'on', 'Tuesday', 'night', 'i', 'go', 'to', 'Youth', 'clob']\n",
      "Predicted Sentence:  ['I', 'go', 'to', 'Bridgebrook', 'i', 'go', 'out', 'sometimes', 'on', 'Tuesday', 'night', 'i', 'go', 'to', 'Youth', 'club']\n",
      "Accuracy:  1.0\n"
     ]
    },
    {
     "name": "stderr",
     "output_type": "stream",
     "text": [
      "\r",
      "  8%|▊         | 8/100 [00:07<01:49,  1.19s/it]"
     ]
    },
    {
     "name": "stdout",
     "output_type": "stream",
     "text": [
      "Actual Sentence:  ['On', 'thursday', 'nights', 'I', 'go', 'bellringing', 'on', 'Saturdays', 'I', 'go', 'down', 'to', 'the', 'farm']\n",
      "Sentence to predict:  ['On', 'thursday', 'nights', 'I', 'go', 'bell_ringing', 'on', 'Saturdays', 'I', 'go', 'down', 'to', 'the', 'farm']\n",
      "Predicted Sentence:  ['On', 'thursday', 'nights', 'I', 'go', 'bell_ringing', 'on', 'Saturdays', 'I', 'go', 'down', 'to', 'the', 'farm']\n",
      "Accuracy:  0.9166666666666666\n"
     ]
    },
    {
     "name": "stderr",
     "output_type": "stream",
     "text": [
      "\r",
      "  9%|▉         | 9/100 [00:07<01:30,  1.01it/s]"
     ]
    },
    {
     "name": "stdout",
     "output_type": "stream",
     "text": [
      "Actual Sentence:  ['on', 'sundays', 'I', 'go', 'to', 'church']\n",
      "Sentence to predict:  ['on', 'sundays', 'I', 'go', 'to', 'church']\n",
      "Predicted Sentence:  ['on', 'sundays', 'I', 'go', 'to', 'church']\n",
      "Accuracy:  1.0\n"
     ]
    },
    {
     "name": "stderr",
     "output_type": "stream",
     "text": [
      "\r",
      " 10%|█         | 10/100 [00:09<01:44,  1.16s/it]"
     ]
    },
    {
     "name": "stdout",
     "output_type": "stream",
     "text": [
      "Actual Sentence:  ['I', 'go', 'to', 'bed', 'at', '10', 'o', 'clock', 'I', 'watch', 'TV', 'at', '5', 'o', 'clock', 'I', 'live', 'in', 'a', 'house']\n",
      "Sentence to predict:  ['I', 'go', 'to', 'bed', 'at', '10', 'o', 'clock', 'I', 'wakh', 'TV', 'at', '5', 'o', 'clock', 'I', 'live', 'in', 'a', 'house']\n",
      "Predicted Sentence:  ['I', 'go', 'to', 'bed', 'at', '10', 'o', 'clock', 'I', 'wash', 'TV', 'at', '5', 'o', 'clock', 'I', 'live', 'in', 'a', 'house']\n",
      "Accuracy:  0.9333333333333333\n"
     ]
    },
    {
     "name": "stderr",
     "output_type": "stream",
     "text": [
      "\r",
      " 11%|█         | 11/100 [00:09<01:27,  1.02it/s]"
     ]
    },
    {
     "name": "stdout",
     "output_type": "stream",
     "text": [
      "Actual Sentence:  ['The', 'house', 'is', 'in', 'the', 'world']\n",
      "Sentence to predict:  ['The', 'house', 'is', 'in', 'the', 'world']\n",
      "Predicted Sentence:  ['The', 'house', 'is', 'in', 'the', 'world']\n",
      "Accuracy:  1.0\n"
     ]
    },
    {
     "name": "stderr",
     "output_type": "stream",
     "text": [
      "\r",
      " 12%|█▏        | 12/100 [00:11<01:42,  1.16s/it]"
     ]
    },
    {
     "name": "stdout",
     "output_type": "stream",
     "text": [
      "Actual Sentence:  ['I', 'live', 'at', 'Boar', 'Parva', 'it', 'is', 'near', 'Melton', 'and', 'Bridgebrook', 'and', 'Smallerden']\n",
      "Sentence to predict:  ['I', 'live', 'at', 'Boar', 'Parva', 'it', 'is', 'near', 'Melton', 'and', 'Bridgebrook', 'and', 'Smallerden']\n",
      "Predicted Sentence:  ['I', 'live', 'at', 'Boar', 'Park', 'it', 'is', 'near', 'Melton', 'and', 'Bridgebrook', 'and', 'Smallerden']\n",
      "Accuracy:  0.9166666666666666\n"
     ]
    },
    {
     "name": "stderr",
     "output_type": "stream",
     "text": [
      "\r",
      " 13%|█▎        | 13/100 [00:13<02:18,  1.59s/it]"
     ]
    },
    {
     "name": "stdout",
     "output_type": "stream",
     "text": [
      "Actual Sentence:  ['The', 'house', 'is', 'white', 'it', 'has', 'stone', 'up', 'the', 'front', 'it', 'is', 'the', 'first', 'from', 'Bridgebrook', 'and', 'the', 'second', 'from', 'Smallerden']\n",
      "Sentence to predict:  ['The', 'house', 'is', 'white', 'it', 'has', 'stone', 'up', 'the', 'frount', 'it', 'is', 'the', 'first', 'from', 'Bridgebrook', 'and', 'the', 'sexeon', 'from', 'Smallerden']\n",
      "Predicted Sentence:  ['The', 'house', 'is', 'white', 'it', 'has', 'stone', 'up', 'the', 'front', 'it', 'is', 'the', 'first', 'from', 'Bridgebrook', 'and', 'the', 'sexton', 'from', 'Smallerden']\n",
      "Accuracy:  0.9375\n"
     ]
    },
    {
     "name": "stderr",
     "output_type": "stream",
     "text": [
      "\r",
      " 14%|█▍        | 14/100 [00:15<02:21,  1.65s/it]"
     ]
    },
    {
     "name": "stdout",
     "output_type": "stream",
     "text": [
      "Actual Sentence:  ['My', 'Mum', 'is', 'at', 'home', 'She', 'goes', 'to', 'the', 'shop', 'on', 'fridays', 'My', 'Dad', 'goes', 'to', 'work', 'at', 'Smallerden']\n",
      "Sentence to predict:  ['My', 'Mum', 'is', 'at', 'home', 'She', 'goes', 'to', 'the', 'shop', 'on', 'fridays', 'My', 'Dad', 'goes', 'to', 'work', 'at', 'Smallerden']\n",
      "Predicted Sentence:  ['My', 'Mum', 'is', 'at', 'home', 'She', 'goes', 'to', 'the', 'shop', 'on', 'fridays', 'My', 'Dad', 'goes', 'to', 'work', 'at', 'Smallerden']\n",
      "Accuracy:  1.0\n"
     ]
    },
    {
     "name": "stderr",
     "output_type": "stream",
     "text": [
      "\r",
      " 15%|█▌        | 15/100 [00:16<01:59,  1.41s/it]"
     ]
    },
    {
     "name": "stdout",
     "output_type": "stream",
     "text": [
      "Actual Sentence:  ['What', 'I', 'do', 'when', 'I', 'get', 'home', 'from', 'school']\n",
      "Sentence to predict:  ['What', 'I', 'do', 'when', 'I', 'get', 'home', 'from', 'school']\n",
      "Predicted Sentence:  ['What', 'I', 'do', 'when', 'I', 'get', 'home', 'from', 'school']\n",
      "Accuracy:  1.0\n"
     ]
    },
    {
     "name": "stderr",
     "output_type": "stream",
     "text": [
      "\r",
      " 16%|█▌        | 16/100 [00:18<02:12,  1.57s/it]"
     ]
    },
    {
     "name": "stdout",
     "output_type": "stream",
     "text": [
      "Actual Sentence:  ['On', 'monday', 'I', 'sometimes', 'go', 'down', 'the', 'farm', 'in', 'the', 'night', 'I', 'watch', 'TV', 'there', 'is', 'BBC', 'and', 'I', 'T', 'V']\n",
      "Sentence to predict:  ['On', 'monday', 'I', 'sometimes', 'go', 'down', 'the', 'farm', 'in', 'the', 'night', 'I', 'wach', 'TV', 'there', 'is', 'BBC', 'and', 'I', 'T', 'V']\n",
      "Predicted Sentence:  ['On', 'monday', 'I', 'sometimes', 'go', 'down', 'the', 'farm', 'in', 'the', 'night', 'I', 'wash', 'TV', 'there', 'is', 'BBC', 'and', 'I', 'T', 'V']\n",
      "Accuracy:  0.9444444444444444\n"
     ]
    },
    {
     "name": "stderr",
     "output_type": "stream",
     "text": [
      "\r",
      " 17%|█▋        | 17/100 [00:18<01:39,  1.20s/it]"
     ]
    },
    {
     "name": "stdout",
     "output_type": "stream",
     "text": [
      "Actual Sentence:  ['I', 'like', 'I', 'T', 'V']\n",
      "Sentence to predict:  ['I', 'like', 'I', 'T', 'V']\n",
      "Predicted Sentence:  ['I', 'like', 'I', 'T', 'V']\n",
      "Accuracy:  1.0\n"
     ]
    },
    {
     "name": "stderr",
     "output_type": "stream",
     "text": [
      "\r",
      " 18%|█▊        | 18/100 [00:19<01:20,  1.02it/s]"
     ]
    },
    {
     "name": "stdout",
     "output_type": "stream",
     "text": [
      "Actual Sentence:  ['We', 'call', 'Anglia', 'I', 'T', 'V']\n",
      "Sentence to predict:  ['We', 'call', 'Anglia', 'I', 'T', 'V']\n",
      "Predicted Sentence:  ['We', 'call', 'Anglia', 'I', 'T', 'V']\n",
      "Accuracy:  1.0\n"
     ]
    },
    {
     "name": "stderr",
     "output_type": "stream",
     "text": [
      "\r",
      " 19%|█▉        | 19/100 [00:20<01:22,  1.02s/it]"
     ]
    },
    {
     "name": "stdout",
     "output_type": "stream",
     "text": [
      "Actual Sentence:  ['We', 'have', 'got', 'Anglia', 'like', 'to', 'watch', 'cowboys']\n",
      "Sentence to predict:  ['We', 'have', 'got', 'Anglia', 'like', 'to', 'wach', 'cow_Boys']\n",
      "Predicted Sentence:  ['We', 'have', 'got', 'Anglia', 'like', 'to', 'wash', 'cow_Boys']\n",
      "Accuracy:  0.75\n"
     ]
    },
    {
     "name": "stderr",
     "output_type": "stream",
     "text": [
      "\r",
      " 20%|██        | 20/100 [00:22<01:50,  1.38s/it]"
     ]
    },
    {
     "name": "stdout",
     "output_type": "stream",
     "text": [
      "Actual Sentence:  ['On', 'Tuesday', 'I', 'get', 'off', 'the', 'bus', 'and', 'sometimes', 'in', 'the', 'night', 'I', 'go', 'to', 'the', 'Youth', 'club']\n",
      "Sentence to predict:  ['On', 'Tuesday', 'I', 'get', 'off', 'the', 'bus', 'and', 'some_times', 'in', 'the', 'night', 'I', 'go', 'to', 'the', 'Youth', 'colbe']\n",
      "Predicted Sentence:  ['On', 'Tuesday', 'I', 'get', 'off', 'the', 'bus', 'and', 'sometimes', 'in', 'the', 'night', 'I', 'go', 'to', 'the', 'Youth', 'come']\n",
      "Accuracy:  0.9333333333333333\n"
     ]
    },
    {
     "name": "stderr",
     "output_type": "stream",
     "text": [
      "\r",
      " 21%|██        | 21/100 [00:23<01:31,  1.16s/it]"
     ]
    },
    {
     "name": "stdout",
     "output_type": "stream",
     "text": [
      "Actual Sentence:  ['I', 'like', 'to', 'watch', 'T', 'V']\n",
      "Sentence to predict:  ['I', 'like', 'to', 'wach', 'T', 'V']\n",
      "Predicted Sentence:  ['I', 'like', 'to', 'wash', 'T', 'V']\n",
      "Accuracy:  0.8333333333333334\n"
     ]
    },
    {
     "name": "stderr",
     "output_type": "stream",
     "text": [
      "\r",
      " 22%|██▏       | 22/100 [00:23<01:19,  1.01s/it]"
     ]
    },
    {
     "name": "stdout",
     "output_type": "stream",
     "text": [
      "Actual Sentence:  ['there', 'is', 'a', 'lot', 'of', 'things', 'on', 'T', 'V']\n",
      "Sentence to predict:  ['there', 'is', 'a', 'lot', 'of', 'things', 'on', 'T', 'V']\n",
      "Predicted Sentence:  ['there', 'is', 'a', 'lot', 'of', 'things', 'on', 'T', 'V']\n",
      "Accuracy:  1.0\n"
     ]
    },
    {
     "name": "stderr",
     "output_type": "stream",
     "text": [
      "\r",
      " 23%|██▎       | 23/100 [00:24<01:10,  1.10it/s]"
     ]
    },
    {
     "name": "stdout",
     "output_type": "stream",
     "text": [
      "Actual Sentence:  ['I', 'watch', 'it', 'each', 'night']\n",
      "Sentence to predict:  ['I', 'wach', 'it', 'each', 'night']\n",
      "Predicted Sentence:  ['I', 'wash', 'it', 'each', 'night']\n",
      "Accuracy:  0.8\n",
      "Actual Sentence:  []\n",
      "Sentence to predict:  []\n",
      "Predicted Sentence:  []\n",
      "Accuracy:  1.0\n"
     ]
    },
    {
     "name": "stderr",
     "output_type": "stream",
     "text": [
      "\r",
      " 25%|██▌       | 25/100 [00:26<01:04,  1.16it/s]"
     ]
    },
    {
     "name": "stdout",
     "output_type": "stream",
     "text": [
      "Actual Sentence:  ['I', 'think', 'TV', 'is', 'good', 'but', 'people', 'say', 'it', 'gives', 'us', 'square', 'eyes']\n",
      "Sentence to predict:  ['I', 'thing', 'tv', 'is', 'good', 'but', 'people', 'say', 'it', 'gives', 'us', 'squar', 'iyes']\n",
      "Predicted Sentence:  ['I', 'thing', 'tv', 'is', 'good', 'but', 'people', 'say', 'it', 'gives', 'us', 'star', 'yes']\n",
      "Accuracy:  0.6923076923076923\n"
     ]
    },
    {
     "name": "stderr",
     "output_type": "stream",
     "text": [
      "\r",
      " 26%|██▌       | 26/100 [00:26<00:54,  1.37it/s]"
     ]
    },
    {
     "name": "stdout",
     "output_type": "stream",
     "text": [
      "Actual Sentence:  ['The', 'Murder', 'Car']\n",
      "Sentence to predict:  ['The', 'Murder', 'Car']\n",
      "Predicted Sentence:  ['The', 'Murder', 'Car']\n",
      "Accuracy:  1.0\n"
     ]
    },
    {
     "name": "stderr",
     "output_type": "stream",
     "text": [
      "\r",
      " 27%|██▋       | 27/100 [00:27<01:05,  1.11it/s]"
     ]
    },
    {
     "name": "stdout",
     "output_type": "stream",
     "text": [
      "Actual Sentence:  ['1', 'night', 'when', 'it', 'was', 'dark', 'about', '12', 'o', 'clock', 'a', 'man', 'was', 'knocked', 'down', 'by', 'a', 'car']\n",
      "Sentence to predict:  ['1', 'night', 'when', 'it', 'was', 'dark', 'about', '12', 'oclock', 'a', 'man', 'was', 'nock', 'down', 'by', 'a', 'car']\n",
      "Predicted Sentence:  ['1', 'night', 'when', 'it', 'was', 'dark', 'about', '12', 'o', 'clock', 'a', 'man', 'was', 'nock', 'down', 'by', 'a', 'car']\n",
      "Accuracy:  0.9375\n"
     ]
    },
    {
     "name": "stderr",
     "output_type": "stream",
     "text": [
      "\r",
      " 28%|██▊       | 28/100 [00:28<01:05,  1.09it/s]"
     ]
    },
    {
     "name": "stdout",
     "output_type": "stream",
     "text": [
      "Actual Sentence:  ['The', 'body', 'was', 'found', 'at', '7', 'o', 'clock', 'in', 'the', 'morning']\n",
      "Sentence to predict:  ['The', 'body', 'was', 'found', 'a', '7', 'oclock', 'in', 'the', 'morning']\n",
      "Predicted Sentence:  ['The', 'body', 'was', 'found', 'a', '7', 'o', 'clock', 'in', 'the', 'morning']\n",
      "Accuracy:  0.9090909090909091\n"
     ]
    },
    {
     "name": "stderr",
     "output_type": "stream",
     "text": [
      "\r",
      " 29%|██▉       | 29/100 [00:31<01:34,  1.33s/it]"
     ]
    },
    {
     "name": "stdout",
     "output_type": "stream",
     "text": [
      "Actual Sentence:  ['The', 'name', 'of', 'the', 'man', 'who', 'was', 'killed', 'was', 'Jack', 'Robbinson', 'he', 'has', 'black', 'hair', 'brown', 'eyes', 'blue', 'Jacket', 'and', 'blue', 'Jeans']\n",
      "Sentence to predict:  ['The', 'name', 'of', 'the', 'man', 'who', 'was', 'kild', 'was', 'Jack', 'Robbinson', 'he', 'has', 'black', 'hair', 'brown', 'eyes', 'blue', 'Jacket', 'and', 'blue', 'Jeans']\n",
      "Predicted Sentence:  ['The', 'name', 'of', 'the', 'man', 'who', 'was', 'kind', 'was', 'Jack', 'Robbinson', 'he', 'has', 'black', 'hair', 'brown', 'eyes', 'blue', 'Jacket', 'and', 'blue', 'Jeans']\n",
      "Accuracy:  0.95\n"
     ]
    },
    {
     "name": "stderr",
     "output_type": "stream",
     "text": [
      "\r",
      " 30%|███       | 30/100 [00:31<01:15,  1.08s/it]"
     ]
    },
    {
     "name": "stdout",
     "output_type": "stream",
     "text": [
      "Actual Sentence:  ['No', 'one', 'saw', 'the', 'car']\n",
      "Sentence to predict:  ['No', 'one', 'see', 'the', 'car']\n",
      "Predicted Sentence:  ['No', 'one', 'see', 'the', 'car']\n",
      "Accuracy:  0.8\n"
     ]
    },
    {
     "name": "stderr",
     "output_type": "stream",
     "text": [
      "\r",
      " 31%|███       | 31/100 [00:33<01:31,  1.33s/it]"
     ]
    },
    {
     "name": "stdout",
     "output_type": "stream",
     "text": [
      "Actual Sentence:  ['there', 'had', 'been', 'a', 'lot', 'of', 'people', 'knocked', 'down', 'by', 'a', 'car', 'so', 'they', 'called', 'it', 'the', 'murder', 'car']\n",
      "Sentence to predict:  ['there', 'had', 'bean', 'a', 'lot', 'of', 'people', 'nock', 'down', 'by', 'a', 'car', 'so', 'they', 'cald', 'it', 'the', 'murder', 'car']\n",
      "Predicted Sentence:  ['there', 'had', 'bean', 'a', 'lot', 'of', 'people', 'nock', 'down', 'by', 'a', 'car', 'so', 'they', 'cold', 'it', 'the', 'murder', 'car']\n",
      "Accuracy:  0.8235294117647058\n"
     ]
    },
    {
     "name": "stderr",
     "output_type": "stream",
     "text": [
      "\r",
      " 32%|███▏      | 32/100 [00:34<01:20,  1.19s/it]"
     ]
    },
    {
     "name": "stdout",
     "output_type": "stream",
     "text": [
      "Actual Sentence:  ['The', 'Police', 'came', 'out', 'to', 'look', 'for', 'the', 'car']\n",
      "Sentence to predict:  ['The', 'Police', 'cam', 'out', 'to', 'look', 'for', 'the', 'car']\n",
      "Predicted Sentence:  ['The', 'Police', 'cam', 'out', 'to', 'look', 'for', 'the', 'car']\n",
      "Accuracy:  0.8888888888888888\n"
     ]
    },
    {
     "name": "stderr",
     "output_type": "stream",
     "text": [
      "\r",
      " 33%|███▎      | 33/100 [00:35<01:20,  1.20s/it]"
     ]
    },
    {
     "name": "stdout",
     "output_type": "stream",
     "text": [
      "Actual Sentence:  ['The', 'other', 'cars', 'were', 'black', 'so', 'one', 'of', 'the', 'other', 'people', 'said']\n",
      "Sentence to predict:  ['The', 'other', 'cars', 'were', 'black', 'so', 'one', 'of', 'the', 'other', 'people', 'said']\n",
      "Predicted Sentence:  ['The', 'other', 'cars', 'were', 'black', 'so', 'one', 'of', 'the', 'other', 'people', 'said']\n",
      "Accuracy:  1.0\n"
     ]
    },
    {
     "name": "stderr",
     "output_type": "stream",
     "text": [
      "\r",
      " 34%|███▍      | 34/100 [00:39<02:04,  1.88s/it]"
     ]
    },
    {
     "name": "stdout",
     "output_type": "stream",
     "text": [
      "Actual Sentence:  ['The', 'murder', 'man', 'has', 'a', 'black', 'beard', 'The', 'next', 'day', 'one', 'of', 'the', 'policemen', 'were', 'killed', 'the', 'next', 'day', 'they', 'found', 'the', 'car', 'over', 'the', 'Hill', 'there', 'was', 'the', 'man', 'near', 'it', 'he', 'was', 'dead']\n",
      "Sentence to predict:  ['The', 'murder', 'man', 'has', 'a', 'black', 'beard', 'The', 'next', 'day', 'one', 'of', 'the', 'policemen', 'were', 'killd', 'the', 'next', 'day', 'they', 'found', 'the', 'car', 'over', 'the', 'Hill', 'the', 'was', 'the', 'man', 'near', 'it', 'he', 'was', 'dead']\n",
      "Predicted Sentence:  ['The', 'murder', 'man', 'has', 'a', 'black', 'beard', 'The', 'next', 'day', 'one', 'of', 'the', 'policemen', 'were', 'killed', 'the', 'next', 'day', 'they', 'found', 'the', 'car', 'over', 'the', 'Hill', 'the', 'was', 'the', 'man', 'near', 'it', 'he', 'was', 'dead']\n",
      "Accuracy:  0.9615384615384616\n"
     ]
    },
    {
     "name": "stderr",
     "output_type": "stream",
     "text": [
      "\r",
      " 35%|███▌      | 35/100 [00:41<02:12,  2.04s/it]"
     ]
    },
    {
     "name": "stdout",
     "output_type": "stream",
     "text": [
      "Actual Sentence:  ['I', 'kissed', 'a', 'girl', 'one', 'night', 'Her', 'eyes', 'were', 'burning', 'blue', 'She', 'said', 'o', 'do', 'you', 'love', 'me', 'Of', 'course', 'of', 'course', 'I', 'do']\n",
      "Sentence to predict:  ['I', 'kissed', 'a', 'girl', 'one', 'night', 'Here', 'iyes', 'were', 'burning', 'blue', 'She', 'said', 'o', 'do', 'you', 'love', 'me', 'Of', 'course', 'of', 'course', 'I', 'do']\n",
      "Predicted Sentence:  ['I', 'kissed', 'a', 'girl', 'one', 'night', 'Here', 'yes', 'were', 'burning', 'blue', 'She', 'said', 'o', 'do', 'you', 'love', 'me', 'Of', 'course', 'of', 'course', 'I', 'do']\n",
      "Accuracy:  0.9047619047619048\n"
     ]
    },
    {
     "name": "stderr",
     "output_type": "stream",
     "text": [
      "\r",
      " 36%|███▌      | 36/100 [00:42<01:37,  1.53s/it]"
     ]
    },
    {
     "name": "stdout",
     "output_type": "stream",
     "text": [
      "Actual Sentence:  ['Bell', 'Ringing']\n",
      "Sentence to predict:  ['Bell', 'Ringing']\n",
      "Predicted Sentence:  ['Bell', 'Ringing']\n",
      "Accuracy:  1.0\n"
     ]
    },
    {
     "name": "stderr",
     "output_type": "stream",
     "text": [
      "\r",
      " 37%|███▋      | 37/100 [00:44<01:56,  1.84s/it]"
     ]
    },
    {
     "name": "stdout",
     "output_type": "stream",
     "text": [
      "Actual Sentence:  ['When', 'you', 'start', 'Bell', 'Ringing', 'you', 'have_to', 'ring', 'a', 'bell', 'before', 'you', 'can', 'do', 'anything', 'else']\n",
      "Sentence to predict:  ['When', 'you', 'start', 'Bell', 'Ringing', 'you', 'haveto', 'ring', 'a', 'bell', 'be_for', 'you', 'can', 'do', 'any_thing', 'als']\n",
      "Predicted Sentence:  ['When', 'you', 'start', 'Bell', 'Ringing', 'you', 'have', 'ring', 'a', 'bell', 'before', 'you', 'can', 'do', 'anything', 'als']\n",
      "Accuracy:  0.8571428571428571\n"
     ]
    },
    {
     "name": "stderr",
     "output_type": "stream",
     "text": [
      "\r",
      " 38%|███▊      | 38/100 [00:45<01:42,  1.66s/it]"
     ]
    },
    {
     "name": "stdout",
     "output_type": "stream",
     "text": [
      "Actual Sentence:  ['It', 'takes', 'a', 'lot', 'to', 'ring', 'a', 'bell', 'on', 'the', 'rope', 'there', 'is', 'a', 'sally']\n",
      "Sentence to predict:  ['It', 'takes', 'a', 'lot', 'to', 'ring', 'a', 'bell', 'on', 'the', 'rope', 'there', 'is', 'a', 'sally']\n",
      "Predicted Sentence:  ['It', 'takes', 'a', 'lot', 'to', 'ring', 'a', 'bell', 'on', 'the', 'rope', 'there', 'is', 'a', 'sally']\n",
      "Accuracy:  1.0\n"
     ]
    },
    {
     "name": "stderr",
     "output_type": "stream",
     "text": [
      "\r",
      " 39%|███▉      | 39/100 [00:46<01:26,  1.42s/it]"
     ]
    },
    {
     "name": "stdout",
     "output_type": "stream",
     "text": [
      "Actual Sentence:  ['ON', 'the', 'bell', 'there', 'is', 'a', 'wheel']\n",
      "Sentence to predict:  ['ON', 'the', 'bell', 'there', 'is', 'a', 'weel']\n",
      "Predicted Sentence:  ['ON', 'the', 'bell', 'there', 'is', 'a', 'week']\n",
      "Accuracy:  0.8571428571428571\n"
     ]
    },
    {
     "name": "stderr",
     "output_type": "stream",
     "text": [
      "\r",
      " 40%|████      | 40/100 [00:48<01:38,  1.64s/it]"
     ]
    },
    {
     "name": "stdout",
     "output_type": "stream",
     "text": [
      "Actual Sentence:  ['the', 'wheel', 'has', 'the', 'rope', 'on', 'it', 'some', 'sallies', 'are', 'green', 'and', 'the', 'others', 'are', 'red', 'white', 'and', 'blue']\n",
      "Sentence to predict:  ['the', 'weel', 'has', 'the', 'rope', 'on', 'it', 'some', 'sally', 'are', 'green', 'and', 'the', 'other', 'are', 'red', 'white', 'and', 'blue']\n",
      "Predicted Sentence:  ['the', 'well', 'has', 'the', 'rope', 'on', 'it', 'some', 'sally', 'are', 'green', 'and', 'the', 'other', 'are', 'red', 'white', 'and', 'blue']\n",
      "Accuracy:  0.8\n"
     ]
    },
    {
     "name": "stderr",
     "output_type": "stream",
     "text": [
      "\r",
      " 41%|████      | 41/100 [00:49<01:15,  1.28s/it]"
     ]
    },
    {
     "name": "stdout",
     "output_type": "stream",
     "text": [
      "Actual Sentence:  ['When', 'you', 'can', 'ring']\n",
      "Sentence to predict:  ['When', 'you', 'can', 'ring']\n",
      "Predicted Sentence:  ['When', 'you', 'can', 'ring']\n",
      "Accuracy:  1.0\n"
     ]
    },
    {
     "name": "stderr",
     "output_type": "stream",
     "text": [
      "\r",
      " 42%|████▏     | 42/100 [00:49<00:59,  1.03s/it]"
     ]
    },
    {
     "name": "stdout",
     "output_type": "stream",
     "text": [
      "Actual Sentence:  ['You', 'ring', 'like', 'this']\n",
      "Sentence to predict:  ['You', 'rings', 'like', 'this']\n",
      "Predicted Sentence:  ['You', 'rings', 'like', 'this']\n",
      "Accuracy:  0.75\n"
     ]
    },
    {
     "name": "stderr",
     "output_type": "stream",
     "text": [
      "\r",
      " 43%|████▎     | 43/100 [00:51<01:03,  1.12s/it]"
     ]
    },
    {
     "name": "stdout",
     "output_type": "stream",
     "text": [
      "Actual Sentence:  ['These', 'are', 'the', 'names', 'of', 'them', 'Plain', 'Hunt', 'plain', 'Bob', 'Grandsire', 'Doubles']\n",
      "Sentence to predict:  ['These', 'are', 'the', 'names', 'of', 'them', 'Plain', 'Hunt', 'plain', 'Bob', 'Grandsire', 'Doubles']\n",
      "Predicted Sentence:  ['These', 'are', 'the', 'names', 'of', 'them', 'Plain', 'Hunt', 'plain', 'Bob', 'Grandsire', 'Doubles']\n",
      "Accuracy:  1.0\n"
     ]
    },
    {
     "name": "stderr",
     "output_type": "stream",
     "text": [
      "\r",
      " 44%|████▍     | 44/100 [00:52<01:04,  1.16s/it]"
     ]
    },
    {
     "name": "stdout",
     "output_type": "stream",
     "text": [
      "Actual Sentence:  ['Grandsire', 'Triples', 'it', 'takes', 'a', 'long', 'time', 'to', 'ring', 'them']\n",
      "Sentence to predict:  ['Grandsire', 'Triples', 'it', 'takes', 'a', 'long', 'time', 'to', 'ring', 'them']\n",
      "Predicted Sentence:  ['Grandsire', 'apples', 'it', 'takes', 'a', 'long', 'time', 'to', 'ring', 'them']\n",
      "Accuracy:  0.9\n"
     ]
    },
    {
     "name": "stderr",
     "output_type": "stream",
     "text": [
      "\r",
      " 45%|████▌     | 45/100 [00:52<00:54,  1.00it/s]"
     ]
    },
    {
     "name": "stdout",
     "output_type": "stream",
     "text": [
      "Actual Sentence:  ['Me', 'and', 'my', 'dad', 'bike', 'to', 'Melton']\n",
      "Sentence to predict:  ['Me', 'and', 'my', 'dad', 'bike', 'to', 'Melton']\n",
      "Predicted Sentence:  ['Me', 'and', 'my', 'dad', 'bike', 'to', 'Melton']\n",
      "Accuracy:  1.0\n"
     ]
    },
    {
     "name": "stderr",
     "output_type": "stream",
     "text": [
      "\r",
      " 46%|████▌     | 46/100 [00:53<00:50,  1.07it/s]"
     ]
    },
    {
     "name": "stdout",
     "output_type": "stream",
     "text": [
      "Actual Sentence:  ['THE', 'SICK', 'SOW', 'OF', 'THE', 'ARMY', 'COURT']\n",
      "Sentence to predict:  ['THE', 'SICK', 'SOW', 'OF', 'THE', 'ARMY', 'COURT']\n",
      "Predicted Sentence:  ['THE', 'SICK', 'SOW', 'OF', 'THE', 'ARMY', 'COURT']\n",
      "Accuracy:  1.0\n"
     ]
    },
    {
     "name": "stderr",
     "output_type": "stream",
     "text": [
      "\r",
      " 47%|████▋     | 47/100 [00:55<00:55,  1.05s/it]"
     ]
    },
    {
     "name": "stdout",
     "output_type": "stream",
     "text": [
      "Actual Sentence:  ['One', 'day', 'Sergent', 'S', 'M', 'Bullimore', 'told', 'Hut', '29', 'to', 'clean', 'Cynthia', 's', 'pig', 'sty', 'out']\n",
      "Sentence to predict:  ['One', 'day', 'Sergent', 'S', 'M', 'Bullimore', 'told', 'Hut', '29', 'to', 'clean', 'Cynthia', 's', 'pig', 'sty', 'out']\n",
      "Predicted Sentence:  ['One', 'day', 'Sergent', 'S', 'M', 'Bullimore', 'told', 'Hut', '29', 'to', 'clean', 'Cynthia', 's', 'pig', 'sty', 'out']\n",
      "Accuracy:  1.0\n"
     ]
    },
    {
     "name": "stderr",
     "output_type": "stream",
     "text": [
      "\r",
      " 48%|████▊     | 48/100 [00:57<01:13,  1.41s/it]"
     ]
    },
    {
     "name": "stdout",
     "output_type": "stream",
     "text": [
      "Actual Sentence:  ['When', 'Hut', '29', 'got', 'there', 'they', 'had', 'to', 'go', 'and', 'get', 'some', 'gas', 'masks', 'because', 'the', 'smell', 'was', 'to', 'strong']\n",
      "Sentence to predict:  ['When', 'Hut', '29', 'got', 'there', 'they', 'had', 'to', 'go', 'and', 'get', 'some', 'gass', 'marsks', 'because', 'the', 'smell', 'was', 'to', 'strong']\n",
      "Predicted Sentence:  ['When', 'Hut', '29', 'got', 'there', 'they', 'had', 'to', 'go', 'and', 'get', 'some', 'grass', 'asks', 'because', 'the', 'smell', 'was', 'to', 'strong']\n",
      "Accuracy:  0.8947368421052632\n"
     ]
    },
    {
     "name": "stderr",
     "output_type": "stream",
     "text": [
      "\r",
      " 49%|████▉     | 49/100 [00:58<01:15,  1.49s/it]"
     ]
    },
    {
     "name": "stdout",
     "output_type": "stream",
     "text": [
      "Actual Sentence:  ['When', 'S', 'M', 'Bullimore', 'came', 'to', 'the', 'pig', 'sty', 'the', 'pig', 'was', 'laid', 'out', 'on', 'the', 'floor']\n",
      "Sentence to predict:  ['When', 'S', 'M', 'Bullimore', 'came', 'to', 'the', 'pig', 'sty', 'the', 'pig', 'was', 'laid', 'out', 'on', 'the', 'foor']\n",
      "Predicted Sentence:  ['When', 'S', 'M', 'Bullimore', 'came', 'to', 'the', 'pig', 'sty', 'the', 'pig', 'was', 'laid', 'out', 'on', 'the', 'door']\n",
      "Accuracy:  0.9285714285714286\n"
     ]
    },
    {
     "name": "stderr",
     "output_type": "stream",
     "text": [
      "\r",
      " 50%|█████     | 50/100 [01:00<01:16,  1.52s/it]"
     ]
    },
    {
     "name": "stdout",
     "output_type": "stream",
     "text": [
      "Actual Sentence:  ['when', 'they', 'came', 'back', 'S', 'M', 'Bullimore', 'said', 'what', 'have', 'you', 'been', 'doing', 'to', 'my', 'sow']\n",
      "Sentence to predict:  ['when', 'they', 'came', 'back', 'S', 'M', 'Bullimore', 'said', 'wat', 'have', 'you', 'been', 'doing', 'to', 'my', 'sow']\n",
      "Predicted Sentence:  ['when', 'they', 'came', 'back', 'S', 'M', 'Bullimore', 'said', 'what', 'have', 'you', 'been', 'doing', 'to', 'my', 'sow']\n",
      "Accuracy:  1.0\n"
     ]
    },
    {
     "name": "stderr",
     "output_type": "stream",
     "text": [
      "\r",
      " 51%|█████     | 51/100 [01:02<01:26,  1.76s/it]"
     ]
    },
    {
     "name": "stdout",
     "output_type": "stream",
     "text": [
      "Actual Sentence:  ['we', 'have', 'not', 'done', 'anything', 'we', 'had', 'to', 'go', 'and', 'get', 'some', 'gas', 'masks', 'because', 'the', 'smell', 'was', 'too', 'strong']\n",
      "Sentence to predict:  ['we', 'have', 'not', 'done', 'anything', 'we', 'had', 'to', 'go', 'and', 'get', 'some', 'gass', 'marsks', 'because', 'the', 'smell', 'was', 'to', 'strong']\n",
      "Predicted Sentence:  ['we', 'have', 'not', 'done', 'anything', 'we', 'had', 'to', 'go', 'and', 'get', 'some', 'grass', 'asks', 'because', 'the', 'smell', 'was', 'to', 'strong']\n",
      "Accuracy:  0.8421052631578947\n"
     ]
    },
    {
     "name": "stderr",
     "output_type": "stream",
     "text": [
      "\r",
      " 52%|█████▏    | 52/100 [01:04<01:16,  1.60s/it]"
     ]
    },
    {
     "name": "stdout",
     "output_type": "stream",
     "text": [
      "Actual Sentence:  ['that', 'is', 'only', 'the', 'soap', 'what', 'I', 'wash', 'it', 'with']\n",
      "Sentence to predict:  ['that', 'is', 'only', 'the', 'soap', 'wat', 'I', 'wosh', 'it', 'with']\n",
      "Predicted Sentence:  ['that', 'is', 'only', 'the', 'soap', 'was', 'I', 'wish', 'it', 'with']\n",
      "Accuracy:  0.8\n"
     ]
    },
    {
     "name": "stderr",
     "output_type": "stream",
     "text": [
      "\r",
      " 53%|█████▎    | 53/100 [01:05<01:05,  1.39s/it]"
     ]
    },
    {
     "name": "stdout",
     "output_type": "stream",
     "text": [
      "Actual Sentence:  ['perhaps', 'he', 'ate', 'some', 'soap']\n",
      "Sentence to predict:  ['prasp', 'he', 'et', 'some', 'soap']\n",
      "Predicted Sentence:  ['tramp', 'he', 'it', 'some', 'soap']\n",
      "Accuracy:  0.6\n"
     ]
    },
    {
     "name": "stderr",
     "output_type": "stream",
     "text": [
      "\r",
      " 54%|█████▍    | 54/100 [01:05<00:55,  1.20s/it]"
     ]
    },
    {
     "name": "stdout",
     "output_type": "stream",
     "text": [
      "Actual Sentence:  ['Flogger', 'said', 'shall', 'I', 'go', 'and', 'get', 'the', 'vet']\n",
      "Sentence to predict:  ['Flogger', 'said', 'shall', 'I', 'go', 'and', 'get', 'the', 'vet']\n",
      "Predicted Sentence:  ['Flogger', 'said', 'shall', 'I', 'go', 'and', 'get', 'the', 'vet']\n",
      "Accuracy:  1.0\n"
     ]
    },
    {
     "name": "stderr",
     "output_type": "stream",
     "text": [
      "\r",
      " 55%|█████▌    | 55/100 [01:06<00:54,  1.21s/it]"
     ]
    },
    {
     "name": "stdout",
     "output_type": "stream",
     "text": [
      "Actual Sentence:  ['get', 'back', 'in', 'the', 'line', 'before', 'I', 'put', 'you', 'on', 'charge']\n",
      "Sentence to predict:  ['get', 'back', 'in', 'the', 'line', 'be_for', 'I', 'put', 'you', 'on', 'charge']\n",
      "Predicted Sentence:  ['get', 'back', 'in', 'the', 'line', 'before', 'I', 'put', 'you', 'on', 'charge']\n",
      "Accuracy:  1.0\n"
     ]
    },
    {
     "name": "stderr",
     "output_type": "stream",
     "text": [
      "\r",
      " 56%|█████▌    | 56/100 [01:07<00:42,  1.04it/s]"
     ]
    },
    {
     "name": "stdout",
     "output_type": "stream",
     "text": [
      "Actual Sentence:  ['what', 'did', 'you', 'say']\n",
      "Sentence to predict:  ['what', 'did', 'you', 'say']\n",
      "Predicted Sentence:  ['what', 'did', 'you', 'say']\n",
      "Accuracy:  1.0\n"
     ]
    },
    {
     "name": "stderr",
     "output_type": "stream",
     "text": [
      "\r",
      " 57%|█████▋    | 57/100 [01:07<00:33,  1.29it/s]"
     ]
    },
    {
     "name": "stdout",
     "output_type": "stream",
     "text": [
      "Actual Sentence:  ['o', 'nothing', 'sir']\n",
      "Sentence to predict:  ['o', 'nothing', 'sir']\n",
      "Predicted Sentence:  ['o', 'nothing', 'sir']\n",
      "Accuracy:  1.0\n"
     ]
    },
    {
     "name": "stderr",
     "output_type": "stream",
     "text": [
      "\r",
      " 58%|█████▊    | 58/100 [01:08<00:32,  1.31it/s]"
     ]
    },
    {
     "name": "stdout",
     "output_type": "stream",
     "text": [
      "Actual Sentence:  ['go', 'and', 'get', 'some', 'whiskey']\n",
      "Sentence to predict:  ['go', 'and', 'get', 'some', 'wiskey']\n",
      "Predicted Sentence:  ['go', 'and', 'get', 'some', 'whiskey']\n",
      "Accuracy:  1.0\n"
     ]
    },
    {
     "name": "stderr",
     "output_type": "stream",
     "text": [
      "\r",
      " 59%|█████▉    | 59/100 [01:08<00:24,  1.65it/s]"
     ]
    },
    {
     "name": "stdout",
     "output_type": "stream",
     "text": [
      "Actual Sentence:  ['okay', 'sir']\n",
      "Sentence to predict:  ['okay', 'sir']\n",
      "Predicted Sentence:  ['okay', 'sir']\n",
      "Accuracy:  1.0\n"
     ]
    },
    {
     "name": "stderr",
     "output_type": "stream",
     "text": [
      "\r",
      " 60%|██████    | 60/100 [01:09<00:26,  1.51it/s]"
     ]
    },
    {
     "name": "stdout",
     "output_type": "stream",
     "text": [
      "Actual Sentence:  ['put', 'some', 'soap', 'in', 'it', 'Flogger', 'said', 'Oswald']\n",
      "Sentence to predict:  ['put', 'some', 'soap', 'in', 'it', 'Flogger', 'said', 'Oswald']\n",
      "Predicted Sentence:  ['put', 'some', 'soap', 'in', 'it', 'Flogger', 'said', 'Oswald']\n",
      "Accuracy:  1.0\n"
     ]
    },
    {
     "name": "stderr",
     "output_type": "stream",
     "text": [
      "\r",
      " 61%|██████    | 61/100 [01:09<00:22,  1.77it/s]"
     ]
    },
    {
     "name": "stdout",
     "output_type": "stream",
     "text": [
      "Actual Sentence:  ['OK', 'said', 'Flogger']\n",
      "Sentence to predict:  ['OK', 'said', 'Flogger']\n",
      "Predicted Sentence:  ['OK', 'said', 'Flogger']\n",
      "Accuracy:  1.0\n"
     ]
    },
    {
     "name": "stderr",
     "output_type": "stream",
     "text": [
      "\r",
      " 62%|██████▏   | 62/100 [01:10<00:19,  1.98it/s]"
     ]
    },
    {
     "name": "stdout",
     "output_type": "stream",
     "text": [
      "Actual Sentence:  ['Flogger', 'went', 'off']\n",
      "Sentence to predict:  ['Flogger', 'went', 'off']\n",
      "Predicted Sentence:  ['Flogger', 'went', 'off']\n",
      "Accuracy:  1.0\n"
     ]
    },
    {
     "name": "stderr",
     "output_type": "stream",
     "text": [
      "\r",
      " 63%|██████▎   | 63/100 [01:11<00:28,  1.31it/s]"
     ]
    },
    {
     "name": "stdout",
     "output_type": "stream",
     "text": [
      "Actual Sentence:  ['a', 'little', 'while', 'after', 'he', 'came', 'with', 'a', 'large', 'soap', 'whiskey']\n",
      "Sentence to predict:  ['a', 'little', 'while', 'after', 'he', 'came', 'with', 'a', 'large', 'soape', 'wiskey']\n",
      "Predicted Sentence:  ['a', 'little', 'while', 'after', 'he', 'came', 'with', 'a', 'large', 'soape', 'whiskey']\n",
      "Accuracy:  0.9\n"
     ]
    },
    {
     "name": "stderr",
     "output_type": "stream",
     "text": [
      "\r",
      " 64%|██████▍   | 64/100 [01:12<00:28,  1.25it/s]"
     ]
    },
    {
     "name": "stdout",
     "output_type": "stream",
     "text": [
      "Actual Sentence:  ['he', 'gave', 'it', 'to', 'S', 'M', 'Bullimore']\n",
      "Sentence to predict:  ['he', 'cave', 'it', 'to', 'S', 'M', 'Bullimore']\n",
      "Predicted Sentence:  ['he', 'cave', 'it', 'to', 'S', 'M', 'Butlins']\n",
      "Accuracy:  0.7142857142857143\n"
     ]
    },
    {
     "name": "stderr",
     "output_type": "stream",
     "text": [
      "\r",
      " 65%|██████▌   | 65/100 [01:13<00:25,  1.36it/s]"
     ]
    },
    {
     "name": "stdout",
     "output_type": "stream",
     "text": [
      "Actual Sentence:  ['Then', 'he', 'gave', 'it', 'to', 'the', 'pig']\n",
      "Sentence to predict:  ['Then', 'he', 'cave', 'it', 'to', 'the', 'pig']\n",
      "Predicted Sentence:  ['Then', 'he', 'cave', 'it', 'to', 'the', 'pig']\n",
      "Accuracy:  0.8571428571428571\n"
     ]
    },
    {
     "name": "stderr",
     "output_type": "stream",
     "text": [
      "\r",
      " 66%|██████▌   | 66/100 [01:14<00:36,  1.07s/it]"
     ]
    },
    {
     "name": "stdout",
     "output_type": "stream",
     "text": [
      "Actual Sentence:  ['A', 'little', 'while', 'after', 'the', 'pig', 'got', 'up', 'and', 'there', 'beside', 'her', 'were', 'six', 'little', 'pigs']\n",
      "Sentence to predict:  ['A', 'little', 'while', 'after', 'the', 'pig', 'go', 'up', 'and', 'there', 'beside', 'here', 'were', 'six', 'little', 'pigs']\n",
      "Predicted Sentence:  ['A', 'little', 'while', 'after', 'the', 'pig', 'go', 'up', 'and', 'there', 'side', 'here', 'were', 'six', 'little', 'pigs']\n",
      "Accuracy:  0.8\n"
     ]
    },
    {
     "name": "stderr",
     "output_type": "stream",
     "text": [
      "\r",
      " 67%|██████▋   | 67/100 [01:16<00:41,  1.24s/it]"
     ]
    },
    {
     "name": "stdout",
     "output_type": "stream",
     "text": [
      "Actual Sentence:  ['S', 'M', 'Bullimore', 'said', 'that', 'made', 'her', 'better', 'that', 'was', 'not', 'me', 'that', 'was', 'the', 'soap']\n",
      "Sentence to predict:  ['S', 'M', 'Bullimore', 'said', 'that', 'made', 'here', 'better', 'that', 'was', 'not', 'me', 'that', 'was', 'the', 'sope']\n",
      "Predicted Sentence:  ['S', 'M', 'Bullimore', 'said', 'that', 'made', 'here', 'better', 'that', 'was', 'not', 'me', 'that', 'was', 'the', 'some']\n",
      "Accuracy:  0.8461538461538461\n"
     ]
    },
    {
     "name": "stderr",
     "output_type": "stream",
     "text": [
      "\r",
      " 68%|██████▊   | 68/100 [01:16<00:31,  1.00it/s]"
     ]
    },
    {
     "name": "stdout",
     "output_type": "stream",
     "text": [
      "Actual Sentence:  ['you', 'are', 'on', 'charge']\n",
      "Sentence to predict:  ['you', 'are', 'on', 'charge']\n",
      "Predicted Sentence:  ['you', 'are', 'on', 'charge']\n",
      "Accuracy:  1.0\n"
     ]
    },
    {
     "name": "stderr",
     "output_type": "stream",
     "text": [
      "\r",
      " 69%|██████▉   | 69/100 [01:17<00:28,  1.11it/s]"
     ]
    },
    {
     "name": "stdout",
     "output_type": "stream",
     "text": [
      "Actual Sentence:  ['what', 'did', 'you', 'give', 'her']\n",
      "Sentence to predict:  ['wat', 'did', 'you', 'give', 'here']\n",
      "Predicted Sentence:  ['what', 'did', 'you', 'give', 'here']\n",
      "Accuracy:  0.8\n"
     ]
    },
    {
     "name": "stderr",
     "output_type": "stream",
     "text": [
      "\r",
      " 70%|███████   | 70/100 [01:19<00:32,  1.09s/it]"
     ]
    },
    {
     "name": "stdout",
     "output_type": "stream",
     "text": [
      "Actual Sentence:  ['I', 'gave', 'her', 'some', 'whiskey', 'and', 'soap', 'you', 'gave', 'her', 'that']\n",
      "Sentence to predict:  ['I', 'cave', 'her', 'some', 'wiskey', 'and', 'sope', 'you', 'cave', 'her', 'that']\n",
      "Predicted Sentence:  ['I', 'cave', 'her', 'some', 'whiskey', 'and', 'some', 'you', 'cave', 'her', 'that']\n",
      "Accuracy:  0.7777777777777778\n"
     ]
    },
    {
     "name": "stderr",
     "output_type": "stream",
     "text": [
      "\r",
      " 71%|███████   | 71/100 [01:19<00:27,  1.06it/s]"
     ]
    },
    {
     "name": "stdout",
     "output_type": "stream",
     "text": [
      "Actual Sentence:  ['no', 'I', 'never', 'I', 'sir']\n",
      "Sentence to predict:  ['no', 'I', 'knver', 'I', 'sir']\n",
      "Predicted Sentence:  ['no', 'I', 'over', 'I', 'sir']\n",
      "Accuracy:  0.75\n"
     ]
    },
    {
     "name": "stderr",
     "output_type": "stream",
     "text": [
      " 73%|███████▎  | 73/100 [01:21<00:22,  1.18it/s]"
     ]
    },
    {
     "name": "stdout",
     "output_type": "stream",
     "text": [
      "Actual Sentence:  ['you', 'did']\n",
      "Sentence to predict:  ['you', 'did']\n",
      "Predicted Sentence:  ['you', 'did']\n",
      "Accuracy:  1.0\n",
      "Actual Sentence:  ['that', 's', 'one', 'thing', 'sir', 'It', 'has', 'made', 'her', 'better']\n",
      "Sentence to predict:  ['thats', 's', 'one', 'thing', 'sir', 'It', 'has', 'made', 'her', 'better']\n",
      "Predicted Sentence:  ['that', 's', 'one', 'thing', 'sir', 'It', 'has', 'made', 'her', 'better']\n",
      "Accuracy:  1.0\n"
     ]
    },
    {
     "name": "stderr",
     "output_type": "stream",
     "text": [
      "\r",
      " 74%|███████▍  | 74/100 [01:22<00:24,  1.08it/s]"
     ]
    },
    {
     "name": "stdout",
     "output_type": "stream",
     "text": [
      "Actual Sentence:  ['Pigs', 'When', 'young', 'up', 'to', 'being', 'killed', 'for', 'bacon']\n",
      "Sentence to predict:  ['Pigs', 'When', 'young', 'up', 'to', 'being', 'kild', 'for', 'bacon']\n",
      "Predicted Sentence:  ['Pigs', 'When', 'young', 'up', 'to', 'being', 'kind', 'for', 'bacon']\n",
      "Accuracy:  0.8888888888888888\n"
     ]
    },
    {
     "name": "stderr",
     "output_type": "stream",
     "text": [
      "\r",
      " 75%|███████▌  | 75/100 [01:24<00:35,  1.40s/it]"
     ]
    },
    {
     "name": "stdout",
     "output_type": "stream",
     "text": [
      "Actual Sentence:  ['When', 'they', 'are', 'young', 'you', 'have', 'to', 'wait', '3', 'days', 'then', 'you', 'can', 'inject', 'them', 'for', 'pneumonia', 'diseases']\n",
      "Sentence to predict:  ['When', 'they', 'are', 'young', 'you', 'have', 'to', 'wate', '3', 'days', 'then', 'you', 'can', 'injeck', 'them', 'for', 'pneumonia', 'diseases']\n",
      "Predicted Sentence:  ['When', 'they', 'are', 'young', 'you', 'have', 'to', 'water', '3', 'days', 'then', 'you', 'can', 'neck', 'them', 'for', 'pneumonia', 'diesel']\n",
      "Accuracy:  0.8235294117647058\n"
     ]
    },
    {
     "name": "stderr",
     "output_type": "stream",
     "text": [
      "\r",
      " 76%|███████▌  | 76/100 [01:25<00:31,  1.30s/it]"
     ]
    },
    {
     "name": "stdout",
     "output_type": "stream",
     "text": [
      "Actual Sentence:  ['you', 'have', 'make', 'sure', 'they', 'have', 'dry', 'straw']\n",
      "Sentence to predict:  ['you', 'have', 'mack', 'shore', 'they', 'have', 'drye', 'straw']\n",
      "Predicted Sentence:  ['you', 'have', 'mack', 'shore', 'they', 'have', 'dry', 'straw']\n",
      "Accuracy:  0.7142857142857143\n"
     ]
    },
    {
     "name": "stderr",
     "output_type": "stream",
     "text": [
      "\r",
      " 77%|███████▋  | 77/100 [01:29<00:43,  1.89s/it]"
     ]
    },
    {
     "name": "stdout",
     "output_type": "stream",
     "text": [
      "Actual Sentence:  ['when', 'you', 'clean', 'them', 'out', 'you', 'should', 'not', 'leave', 'a', 'fork', 'in', 'with', 'them', 'because', 'the', 'mother', 'might', 'knock', 'it', 'down', 'and', 'the', 'little', 'pigs', 'might', 'stab', 'themselves']\n",
      "Sentence to predict:  ['when', 'you', 'clean', 'them', 'out', 'you', 'should', 'not', 'leave', 'a', 'falk', 'in', 'with', 'them', 'because', 'the', 'mother', 'might', 'nock', 'it', 'down', 'and', 'the', 'little', 'pigs', 'might', 'stab', 'them_souve']\n",
      "Predicted Sentence:  ['when', 'you', 'clean', 'them', 'out', 'you', 'should', 'not', 'leave', 'a', 'fall', 'in', 'with', 'them', 'because', 'the', 'mother', 'might', 'nock', 'it', 'down', 'and', 'the', 'little', 'pigs', 'might', 'stab', 'themselves']\n",
      "Accuracy:  0.9166666666666666\n"
     ]
    },
    {
     "name": "stderr",
     "output_type": "stream",
     "text": [
      "\r",
      " 78%|███████▊  | 78/100 [01:29<00:34,  1.57s/it]"
     ]
    },
    {
     "name": "stdout",
     "output_type": "stream",
     "text": [
      "Actual Sentence:  ['we', 'give', 'them', 'worm', 'powder']\n",
      "Sentence to predict:  ['we', 'give', 'the', 'worme', 'pouder']\n",
      "Predicted Sentence:  ['we', 'give', 'the', 'worme', 'wonder']\n",
      "Accuracy:  0.4\n"
     ]
    },
    {
     "name": "stderr",
     "output_type": "stream",
     "text": [
      "\r",
      " 79%|███████▉  | 79/100 [01:30<00:27,  1.30s/it]"
     ]
    },
    {
     "name": "stdout",
     "output_type": "stream",
     "text": [
      "Actual Sentence:  ['that', 'is', 'when', 'they', 'get', 'the', 'worm']\n",
      "Sentence to predict:  ['that', 'is', 'when', 'they', 'get', 'the', 'worme']\n",
      "Predicted Sentence:  ['that', 'is', 'when', 'they', 'get', 'the', 'worme']\n",
      "Accuracy:  0.8571428571428571\n"
     ]
    },
    {
     "name": "stderr",
     "output_type": "stream",
     "text": [
      "\r",
      " 80%|████████  | 80/100 [01:31<00:22,  1.13s/it]"
     ]
    },
    {
     "name": "stdout",
     "output_type": "stream",
     "text": [
      "Actual Sentence:  ['this', 'will', 'stop', 'them', 'from', 'going', 'thin']\n",
      "Sentence to predict:  ['this', 'will', 'stop', 'them', 'from', 'going', 'thin']\n",
      "Predicted Sentence:  ['this', 'will', 'stop', 'them', 'from', 'going', 'thin']\n",
      "Accuracy:  1.0\n"
     ]
    },
    {
     "name": "stderr",
     "output_type": "stream",
     "text": [
      "\r",
      " 81%|████████  | 81/100 [01:32<00:23,  1.22s/it]"
     ]
    },
    {
     "name": "stdout",
     "output_type": "stream",
     "text": [
      "Actual Sentence:  ['you', 'should', 'box', 'a', 'little', 'place', 'off', 'so', 'only', 'the', 'little', 'pigs', 'can', 'get', 'in', 'it']\n",
      "Sentence to predict:  ['you', 'should', 'box', 'a', 'little', 'place', 'off', 'so', 'only', 'the', 'little', 'pigs', 'can', 'get', 'in', 'it']\n",
      "Predicted Sentence:  ['you', 'should', 'box', 'a', 'little', 'place', 'off', 'so', 'only', 'the', 'little', 'pigs', 'can', 'get', 'in', 'it']\n",
      "Accuracy:  1.0\n"
     ]
    },
    {
     "name": "stderr",
     "output_type": "stream",
     "text": [
      "\r",
      " 82%|████████▏ | 82/100 [01:33<00:21,  1.17s/it]"
     ]
    },
    {
     "name": "stdout",
     "output_type": "stream",
     "text": [
      "Actual Sentence:  ['that', 'is', 'so', 'they', 'can', 'get', 'out', 'of', 'the', 'way', 'of', 'their', 'mother']\n",
      "Sentence to predict:  ['that', 'is', 'so', 'they', 'can', 'ge', 'out', 'of', 'the', 'way', 'of', 'there', 'mother']\n",
      "Predicted Sentence:  ['that', 'is', 'so', 'they', 'can', 'ge', 'out', 'of', 'the', 'way', 'of', 'there', 'mother']\n",
      "Accuracy:  0.8333333333333334\n"
     ]
    },
    {
     "name": "stderr",
     "output_type": "stream",
     "text": [
      "\r",
      " 83%|████████▎ | 83/100 [01:35<00:20,  1.22s/it]"
     ]
    },
    {
     "name": "stdout",
     "output_type": "stream",
     "text": [
      "Actual Sentence:  ['some', 'people', 'put', 'a', 'light', 'in', 'with', 'them', 'to', 'keep', 'them', 'warm']\n",
      "Sentence to predict:  ['some', 'people', 'put', 'a', 'light', 'in', 'with', 'theme', 'to', 'geep', 'them', 'warm']\n",
      "Predicted Sentence:  ['some', 'people', 'put', 'a', 'light', 'in', 'with', 'theme', 'to', 'peep', 'them', 'warm']\n",
      "Accuracy:  0.9090909090909091\n"
     ]
    },
    {
     "name": "stderr",
     "output_type": "stream",
     "text": [
      "\r",
      " 84%|████████▍ | 84/100 [01:36<00:18,  1.17s/it]"
     ]
    },
    {
     "name": "stdout",
     "output_type": "stream",
     "text": [
      "Actual Sentence:  ['you', 'have', 'to', 'make', 'sure', 'that', 'mother', 'has', 'a', 'lot', 'of', 'milk']\n",
      "Sentence to predict:  ['you', 'have', 'to', 'make', 'shore', 'that', 'mother', 'has', 'a', 'lot', 'of', 'milk']\n",
      "Predicted Sentence:  ['you', 'have', 'to', 'make', 'shore', 'that', 'mother', 'has', 'a', 'lot', 'of', 'milk']\n",
      "Accuracy:  0.9166666666666666\n"
     ]
    },
    {
     "name": "stderr",
     "output_type": "stream",
     "text": [
      "\r",
      " 85%|████████▌ | 85/100 [01:37<00:19,  1.32s/it]"
     ]
    },
    {
     "name": "stdout",
     "output_type": "stream",
     "text": [
      "Actual Sentence:  ['If', 'she', 'has', 'not', 'got', 'enough', 'milk', 'you', 'will', 'have', 'to', 'feed', 'them', 'on', 'a', 'bottle']\n",
      "Sentence to predict:  ['If', 'she', 'as', 'not', 'got', 'a_nougth', 'milk', 'you', 'will', 'have', 'to', 'feed', 'them', 'on', 'a', 'bottle']\n",
      "Predicted Sentence:  ['If', 'she', 'as', 'not', 'got', 'enough', 'milk', 'you', 'will', 'have', 'to', 'feed', 'them', 'on', 'a', 'bottle']\n",
      "Accuracy:  0.9375\n"
     ]
    },
    {
     "name": "stderr",
     "output_type": "stream",
     "text": [
      "\r",
      " 86%|████████▌ | 86/100 [01:39<00:19,  1.41s/it]"
     ]
    },
    {
     "name": "stdout",
     "output_type": "stream",
     "text": [
      "Actual Sentence:  ['when', 'they', 'can', 'eat', 'a', 'little', 'bit', 'you', 'can', 'get', 'them', 'some', 'little', 'nuts', 'for', 'fattening']\n",
      "Sentence to predict:  ['when', 'they', 'came', 'eat', 'a', 'little', 'bit', 'you', 'can', 'get', 'them', 'some', 'little', 'nuts', 'of', 'fating']\n",
      "Predicted Sentence:  ['when', 'they', 'came', 'eat', 'a', 'little', 'bit', 'you', 'can', 'get', 'them', 'some', 'little', 'nuts', 'of', 'fating']\n",
      "Accuracy:  0.8571428571428571\n"
     ]
    },
    {
     "name": "stderr",
     "output_type": "stream",
     "text": [
      "\r",
      " 87%|████████▋ | 87/100 [01:40<00:18,  1.41s/it]"
     ]
    },
    {
     "name": "stdout",
     "output_type": "stream",
     "text": [
      "Actual Sentence:  ['they', 'can', 'eat', 'some', 'meal', 'when', 'they', 'get', 'a', 'little', 'bigger']\n",
      "Sentence to predict:  ['they', 'can', 'eate', 'some', 'meal', 'when', 'they', 'get', 'a', 'little', 'biger']\n",
      "Predicted Sentence:  ['they', 'can', 'eate', 'some', 'meal', 'when', 'they', 'get', 'a', 'little', 'bigger']\n",
      "Accuracy:  0.9\n"
     ]
    },
    {
     "name": "stderr",
     "output_type": "stream",
     "text": [
      "\r",
      " 88%|████████▊ | 88/100 [01:42<00:16,  1.35s/it]"
     ]
    },
    {
     "name": "stdout",
     "output_type": "stream",
     "text": [
      "Actual Sentence:  ['we', 'give', 'them', 'some', 'fattening', 'food', 'called', 'Nomber', '2']\n",
      "Sentence to predict:  ['we', 'give', 'them', 'some', 'fating', 'food', 'called', 'Nomber', '2']\n",
      "Predicted Sentence:  ['we', 'give', 'them', 'some', 'fating', 'food', 'called', 'November', '2']\n",
      "Accuracy:  0.7777777777777778\n"
     ]
    },
    {
     "name": "stderr",
     "output_type": "stream",
     "text": [
      " 90%|█████████ | 90/100 [01:44<00:12,  1.26s/it]"
     ]
    },
    {
     "name": "stdout",
     "output_type": "stream",
     "text": [
      "Actual Sentence:  ['when', 'you', 'wean', 'that', 'is', 'take', 'them', 'from', 'their', 'mother', 'you', 'have', 'got', 'to', 'see', 'if', 'they', 'fight', 'if', 'there', 'is', 'any', 'little', 'ones']\n",
      "Sentence to predict:  ['whe', 'you', 'wean', 'that', 'is', 'take', 'them', 'from', 'their', 'mother', 'you', 'have', 'got', 'to', 'see', 'if', 'they', 'fight', 'if', 'there', 'is', 'any', 'little', 'wones']\n",
      "Predicted Sentence:  ['when', 'you', 'wean', 'that', 'is', 'take', 'them', 'from', 'their', 'mother', 'you', 'have', 'got', 'to', 'see', 'if', 'they', 'fight', 'if', 'there', 'is', 'any', 'little', 'ones']\n",
      "Accuracy:  1.0\n",
      "Actual Sentence:  ['fighting']\n",
      "Sentence to predict:  ['fighting']\n",
      "Predicted Sentence:  ['fighting']\n",
      "Accuracy:  1.0\n"
     ]
    },
    {
     "name": "stderr",
     "output_type": "stream",
     "text": [
      "\r",
      " 91%|█████████ | 91/100 [01:45<00:11,  1.24s/it]"
     ]
    },
    {
     "name": "stdout",
     "output_type": "stream",
     "text": [
      "Actual Sentence:  ['when', 'they', 'are', 'big', 'you', 'have', 'to', 'see', 'about', 'weighing']\n",
      "Sentence to predict:  ['when', 'they', 'and', 'bing', 'you', 'have', 'to', 'see', 'about', 'waying']\n",
      "Predicted Sentence:  ['when', 'they', 'and', 'big', 'you', 'have', 'to', 'see', 'about', 'waying']\n",
      "Accuracy:  0.8\n"
     ]
    },
    {
     "name": "stderr",
     "output_type": "stream",
     "text": [
      "\r",
      " 92%|█████████▏| 92/100 [01:47<00:11,  1.42s/it]"
     ]
    },
    {
     "name": "stdout",
     "output_type": "stream",
     "text": [
      "Actual Sentence:  ['when', 'they', 'have', 'been', 'weighed', 'and', 'ready', 'to', 'go', 'away', 'to', 'be', 'killed']\n",
      "Sentence to predict:  ['when', 'they', 'have', 'been', 'waid', 'and', 'reddy', 'to', 'go', 'away', 'to', 'be', 'kild']\n",
      "Predicted Sentence:  ['when', 'they', 'have', 'been', 'wait', 'and', 'ready', 'to', 'go', 'away', 'to', 'be', 'killed']\n",
      "Accuracy:  0.9166666666666666\n"
     ]
    },
    {
     "name": "stderr",
     "output_type": "stream",
     "text": [
      "\r",
      " 93%|█████████▎| 93/100 [01:49<00:09,  1.39s/it]"
     ]
    },
    {
     "name": "stdout",
     "output_type": "stream",
     "text": [
      "Actual Sentence:  ['Billy', 'Bunter', 'was', 'too', 'large', 'So', 'they', 'sent', 'for', 'Him', 'in', 'charge']\n",
      "Sentence to predict:  ['Billy', 'Bunter', 'was', 'to', 'large', 'So', 'they', 'sent', 'for', 'Im', 'in', 'charge']\n",
      "Predicted Sentence:  ['Billy', 'Bunter', 'was', 'to', 'large', 'So', 'they', 'sent', 'for', 'It', 'in', 'charge']\n",
      "Accuracy:  0.8333333333333334\n"
     ]
    },
    {
     "name": "stderr",
     "output_type": "stream",
     "text": [
      "\r",
      " 94%|█████████▍| 94/100 [01:50<00:08,  1.41s/it]"
     ]
    },
    {
     "name": "stdout",
     "output_type": "stream",
     "text": [
      "Actual Sentence:  ['Him', 'in', 'charge', 'was', 'too', 'thin', 'So', 'they', 'sent', 'for', 'Rin', 'Tin', 'Tin']\n",
      "Sentence to predict:  ['Im', 'in', 'charge', 'was', 'to', 'thin', 'So', 'they', 'sent', 'fro', 'Rin', 'Tin', 'Tin']\n",
      "Predicted Sentence:  ['am', 'in', 'charge', 'was', 'to', 'thin', 'So', 'they', 'sent', 'from', 'Rin', 'Tin', 'Tin']\n",
      "Accuracy:  0.75\n"
     ]
    },
    {
     "name": "stderr",
     "output_type": "stream",
     "text": [
      "\r",
      " 95%|█████████▌| 95/100 [01:51<00:06,  1.33s/it]"
     ]
    },
    {
     "name": "stdout",
     "output_type": "stream",
     "text": [
      "Actual Sentence:  ['Rin', 'Tin', 'Tin', 'heart', 'is', 'poor', 'So', 'they', 'sent', 'for', 'Barbra', 'Moore']\n",
      "Sentence to predict:  ['Rin', 'Tin', 'Tin', 'heart', 'is', 'poor', 'So', 'they', 'sent', 'for', 'Barbra', 'Moore']\n",
      "Predicted Sentence:  ['Rin', 'Tin', 'Tin', 'heart', 'is', 'poor', 'So', 'they', 'sent', 'for', 'Barbra', 'Moore']\n",
      "Accuracy:  1.0\n"
     ]
    },
    {
     "name": "stderr",
     "output_type": "stream",
     "text": [
      "\r",
      " 96%|█████████▌| 96/100 [01:52<00:05,  1.27s/it]"
     ]
    },
    {
     "name": "stdout",
     "output_type": "stream",
     "text": [
      "Actual Sentence:  ['Barbra', 'Moore', 'was', 'having', 'dinner', 'So', 'they', 'sent', 'for', 'Yule', 'Brinner']\n",
      "Sentence to predict:  ['Barbra', 'Moore', 'was', 'having', 'dinner', 'So', 'the', 'sent', 'for', 'Yule', 'Brinner']\n",
      "Predicted Sentence:  ['Barbra', 'Moore', 'was', 'having', 'dinner', 'So', 'the', 'sent', 'for', 'Yule', 'Brinner']\n",
      "Accuracy:  0.9090909090909091\n"
     ]
    },
    {
     "name": "stderr",
     "output_type": "stream",
     "text": [
      "\r",
      " 97%|█████████▋| 97/100 [01:54<00:03,  1.25s/it]"
     ]
    },
    {
     "name": "stdout",
     "output_type": "stream",
     "text": [
      "Actual Sentence:  ['Yule', 'Brinner', 'sang', 'too', 'high', 'Then', 'they', 'went', 'to', 'space', 'in', 'the', 'sky']\n",
      "Sentence to predict:  ['Yule', 'Brinner', 'sang', 'to', 'high', 'Then', 'they', 'went', 'to', 'space', 'in', 'the', 'sky']\n",
      "Predicted Sentence:  ['Yule', 'Brinner', 'sang', 'to', 'high', 'Then', 'they', 'went', 'to', 'space', 'in', 'the', 'sky']\n",
      "Accuracy:  0.9230769230769231\n"
     ]
    },
    {
     "name": "stderr",
     "output_type": "stream",
     "text": [
      "\r",
      " 98%|█████████▊| 98/100 [01:56<00:02,  1.47s/it]"
     ]
    },
    {
     "name": "stdout",
     "output_type": "stream",
     "text": [
      "Actual Sentence:  ['My', 'heart', 'is', 'full', 'of', 'sadness', 'My', 'heart', 'is', 'full', 'of', 'joy', 'It', 'might', 'be', 'my', 'wife', 'Or', 'it', 'might', 'be', 'Helen', 'of', 'Troy']\n",
      "Sentence to predict:  ['My', 'heart', 'is', 'full', 'of', 'sadness', 'My', 'heart', 'is', 'full', 'of', 'joy', 'It', 'might', 'be', 'my', 'wife', 'Or', 'it', 'might', 'be', 'Helen', 'of', 'Toy']\n",
      "Predicted Sentence:  ['My', 'heart', 'is', 'full', 'of', 'sadness', 'My', 'heart', 'is', 'full', 'of', 'joy', 'It', 'might', 'be', 'my', 'wife', 'Or', 'it', 'might', 'be', 'Helen', 'of', 'Toy']\n",
      "Accuracy:  0.9375\n"
     ]
    },
    {
     "name": "stderr",
     "output_type": "stream",
     "text": [
      "\r",
      " 99%|█████████▉| 99/100 [01:57<00:01,  1.40s/it]"
     ]
    },
    {
     "name": "stdout",
     "output_type": "stream",
     "text": [
      "Actual Sentence:  ['One', 'Saturday', 'I', 'thought', 'I', 'would', 'go', 'to', 'the', 'Races', 'at', 'London']\n",
      "Sentence to predict:  ['One', 'Saturday', 'I', 'though', 'I', 'would', 'go', 'to', 'the', 'Races', 'at', 'London']\n",
      "Predicted Sentence:  ['One', 'Saturday', 'I', 'though', 'I', 'would', 'go', 'to', 'the', 'Races', 'at', 'London']\n",
      "Accuracy:  0.9090909090909091\n"
     ]
    },
    {
     "name": "stderr",
     "output_type": "stream",
     "text": [
      "100%|██████████| 100/100 [01:58<00:00,  1.18s/it]"
     ]
    },
    {
     "name": "stdout",
     "output_type": "stream",
     "text": [
      "Actual Sentence:  ['I', 'went', 'on', 'my', 'Royal', 'Enfield']\n",
      "Sentence to predict:  ['I', 'went', 'on', 'my', 'Royl', 'Enfield']\n",
      "Predicted Sentence:  ['I', 'went', 'on', 'my', 'Royal', 'Enfield']\n",
      "Accuracy:  1.0\n",
      "************************************************EVALUATION**********************************************************\n",
      "Average Accuracy of words in each sentence:  91.0187 %\n",
      "42 out of 100 sentences predicted correctly without any error\n"
     ]
    },
    {
     "name": "stderr",
     "output_type": "stream",
     "text": [
      "\n"
     ]
    }
   ],
   "source": [
    "def accuracy(actual_sent, sent_pred):\n",
    "    \"\"\"This is based on word to word accuracy calculation. Compares each word with the actual word and calculate accuracy\"\"\"\n",
    "    actual = actual_sent\n",
    "    predict = correct_mod(sent_pred)\n",
    "    # If the blank sentence i.e for a blank line predicted is also blank take accuracy as 1\n",
    "    if len(actual) == 0 and len(predict)==0:\n",
    "        accuracy = 1.0\n",
    "    else:\n",
    "        # Take all predicted words same as actual word and divide by lenght of sentence\n",
    "        accuracy = len(set(predict) & set(actual))/len(set(actual))\n",
    "    \n",
    "    print(\"Actual Sentence: \", actual)\n",
    "    print(\"Sentence to predict: \", sent_pred)\n",
    "    print(\"Predicted Sentence: \", predict)\n",
    "    print(\"Accuracy: \", accuracy)\n",
    "    \n",
    "    return accuracy\n",
    "    \n",
    "acc = []\n",
    "for i in tqdm(range(len(test_corrected))):\n",
    "    acc.append(accuracy(test_corrected[i], test_original[i]))\n",
    "\n",
    "improved_acc = round(sum(acc)/len(acc)*100, 4)\n",
    "print(\"************************************************EVALUATION**********************************************************\")\n",
    "print(\"Average Accuracy of words in each sentence: \", improved_acc, \"%\")\n",
    "print(acc.count(1), \"out of 100 sentences predicted correctly without any error\")"
   ]
  },
  {
   "cell_type": "markdown",
   "metadata": {},
   "source": [
    "### Model Evaluation:\n",
    "*****************************************************************\n",
    "From all above mentioned implementation ideas, it is observed that the accuracy has been increased to approximately 91% from 82.7862 % accuracy, which is nearly 10% accuracy increased. Moreover, I have also cross checked for different test and train split and repeated the process and noted down the accuracy. It is observed the accuracy is between [89% to 93%].\n",
    "*****************************************************\n",
    "### Results\n",
    "Average Accuracy of words in each sentence:  91.0187 % .\n",
    "*****************************************************************\n",
    "42 out of 100 sentences predicted correctly without any error.\n",
    "*****************************************************************"
   ]
  },
  {
   "cell_type": "code",
   "execution_count": 20,
   "metadata": {},
   "outputs": [
    {
     "data": {
      "image/png": "[encoded data removed]",
      "text/plain": [
       "<Figure size 432x288 with 1 Axes>"
      ]
     },
     "metadata": {
      "needs_background": "light"
     },
     "output_type": "display_data"
    }
   ],
   "source": [
    "import numpy as np \n",
    "import matplotlib.pyplot as plt \n",
    "  \n",
    "X = ['Improved Accuracy']\n",
    "Y = [initial_acc]\n",
    "Z = [improved_acc]\n",
    "  \n",
    "X_axis = np.arange(len(X))\n",
    "  \n",
    "plt.bar(X_axis - 0.2, Y, 0.4, label = 'Initial Accuracy')\n",
    "plt.bar(X_axis + 0.2, Z, 0.4, label = 'Final Accuracy')\n",
    "  \n",
    "plt.xlabel(\"Improved Accuracy\")\n",
    "plt.ylabel(\"Accuracy\")\n",
    "plt.title(\"Comparision between initial and final accuracy\")\n",
    "plt.legend()\n",
    "plt.show()"
   ]
  },
  {
   "cell_type": "markdown",
   "metadata": {},
   "source": [
    "import turtle\n",
    "def drawBar(t, height, color):\n",
    "    t.fillcolor(color)\n",
    "    t.begin_fill()\n",
    "    t.left(90)\n",
    "    t.forward(height)\n",
    "    t.write(str(height))\n",
    "    t.right(90)\n",
    "    t.forward(40)\n",
    "    t.right(90)\n",
    "    t.forward(height)\n",
    "    t.left(90)\n",
    "    t.end_fill()\n",
    "\n",
    "xs = [initial_acc, improved_acc]\n",
    "clrs = [\"green\", \"red\"]\n",
    "\n",
    "maxheight = max(xs)\n",
    "numbers = len(xs)\n",
    "border = 10\n",
    "wn = turtle.Screen()\n",
    "wn.setworldcoordinates(0 - border, 0 - border, 40 * numbers + border, maxheight + border)\n",
    "\n",
    "tess = turtle.Turtle()\n",
    "tess.pensize(3)\n",
    "\n",
    "for i in range(len(xs)):\n",
    "    drawBar (tess, xs[i], clrs[i])\n",
    "\n",
    "wn.exitonclick()"
   ]
  },
  {
   "cell_type": "code",
   "execution_count": null,
   "metadata": {},
   "outputs": [],
   "source": []
  }
 ],
 "metadata": {
  "kernelspec": {
   "display_name": "Python 3",
   "language": "python",
   "name": "python3"
  },
  "language_info": {
   "codemirror_mode": {
    "name": "ipython",
    "version": 3
   },
   "file_extension": ".py",
   "mimetype": "text/x-python",
   "name": "python",
   "nbconvert_exporter": "python",
   "pygments_lexer": "ipython3",
   "version": "3.8.8"
  }
 },
 "nbformat": 4,
 "nbformat_minor": 1
}
